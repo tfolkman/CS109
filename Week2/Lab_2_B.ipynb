{
 "metadata": {
  "name": ""
 },
 "nbformat": 3,
 "nbformat_minor": 0,
 "worksheets": [
  {
   "cells": [
    {
     "cell_type": "code",
     "collapsed": false,
     "input": [
      "# Setup\n",
      "from bs4 import BeautifulSoup\n",
      "import pandas as pd\n",
      "import numpy as np\n",
      "import matplotlib.pyplot as plt\n",
      "import requests\n",
      "\n",
      "from cs109style import customize_mpl, customize_css\n",
      "customize_mpl()\n",
      "customize_css()\n",
      "%pylab inline"
     ],
     "language": "python",
     "metadata": {},
     "outputs": [
      {
       "output_type": "stream",
       "stream": "stdout",
       "text": [
        "Setting custom matplotlib visual style\n",
        "Setting custom CSS for the IPython Notebook\n",
        "Populating the interactive namespace from numpy and matplotlib\n"
       ]
      }
     ],
     "prompt_number": 57
    },
    {
     "cell_type": "markdown",
     "metadata": {},
     "source": [
      "## Example 2: extracting reddit titles, upvotes, downvotes, and submission time"
     ]
    },
    {
     "cell_type": "code",
     "collapsed": false,
     "input": [
      "def get_links_from_front_pages(n):\n",
      "    '''\n",
      "    Find urls of comments pages, linked from the n first pages of Reddit\n",
      "    '''\n",
      "    \n",
      "    #Start Page\n",
      "    url = 'http://www.reddit.com/'\n",
      "    comment_pages = []\n",
      "    \n",
      "    print \"Extracting URLs for {0} page(s) of comments from {1}\".format(n,url)\n",
      "    \n",
      "    for page_idx in range(n):\n",
      "        print \"Processing.... {0}\".format(url)\n",
      "        r = requests.get(url)\n",
      "        bs = BeautifulSoup(r.text)\n",
      "        for entry in bs.findAll('a',{\"class\":\"comments\"},href=True):\n",
      "            comment_pages.append(entry['href'])\n",
      "        url = bs.find('a',{\"rel\":\"nofollow next\"},href=True)['href']\n",
      "    \n",
      "    print \"Returned {0} urls\".format(len(set(comment_pages)))\n",
      "    return list(set(comment_pages))"
     ],
     "language": "python",
     "metadata": {},
     "outputs": [],
     "prompt_number": 2
    },
    {
     "cell_type": "code",
     "collapsed": false,
     "input": [
      "def info_from_comments_pages(links):\n",
      "    '''\n",
      "    Get title upvotes, downvotes, and time from a comment url\n",
      "    '''\n",
      "    \n",
      "    results = []\n",
      "    for urltext in links:\n",
      "        print \"Fetching info for\", urltext\n",
      "        try:\n",
      "            r = requests.get(urltext)\n",
      "            bs = BeautifulSoup(r.text)\n",
      "            title = bs.find('p',{'class':'title'}).text\n",
      "            upvotes = int(bs.find('span',{'class':'upvotes'}).findChildren()[0].text.replace(\",\",\"\"))\n",
      "            downvotes = int(bs.find('span',{'class':'downvotes'}).findChildren()[0].text.replace(\",\",\"\"))\n",
      "            time = pd.to_datetime(bs.find('time')['datetime'])\n",
      "            results.append((title, upvotes, downvotes, time))\n",
      "        except KeyboardInterrupt:\n",
      "            #allow us to interrupt kernel but use what already have\n",
      "            break\n",
      "        except:\n",
      "            pass #skip over things that look like comment pages but dont have info we need\n",
      "    return results\n",
      "    "
     ],
     "language": "python",
     "metadata": {},
     "outputs": [],
     "prompt_number": 38
    },
    {
     "cell_type": "code",
     "collapsed": false,
     "input": [
      "comment_pages = get_links_from_front_pages(6)\n",
      "pages = info_from_comments_pages(comment_pages)"
     ],
     "language": "python",
     "metadata": {},
     "outputs": [
      {
       "output_type": "stream",
       "stream": "stdout",
       "text": [
        "Extracting URLs for 6 page(s) of comments from http://www.reddit.com/\n",
        "Processing.... http://www.reddit.com/\n",
        "Processing.... http://www.reddit.com/?count=25&after=t3_203g7l"
       ]
      },
      {
       "output_type": "stream",
       "stream": "stdout",
       "text": [
        "\n",
        "Processing.... http://www.reddit.com/?count=50&after=t3_203b18"
       ]
      },
      {
       "output_type": "stream",
       "stream": "stdout",
       "text": [
        "\n",
        "Processing.... http://www.reddit.com/?count=75&after=t3_202gnx"
       ]
      },
      {
       "output_type": "stream",
       "stream": "stdout",
       "text": [
        "\n",
        "Processing.... http://www.reddit.com/?count=100&after=t3_203kr7"
       ]
      },
      {
       "output_type": "stream",
       "stream": "stdout",
       "text": [
        "\n",
        "Processing.... http://www.reddit.com/?count=125&after=t3_2029od"
       ]
      },
      {
       "output_type": "stream",
       "stream": "stdout",
       "text": [
        "\n",
        "Returned 192 urls"
       ]
      },
      {
       "output_type": "stream",
       "stream": "stdout",
       "text": [
        "\n",
        "Fetching info for http://www.reddit.com/r/AskReddit/comments/2049ok/why_are_there_so_many_negative_connotations/\n",
        "Fetching info for"
       ]
      },
      {
       "output_type": "stream",
       "stream": "stdout",
       "text": [
        " http://www.reddit.com/r/todayilearned/comments/202dna/til_the_flag_of_bikini_atoll_is_symbolic_of_the/\n",
        "Fetching info for"
       ]
      },
      {
       "output_type": "stream",
       "stream": "stdout",
       "text": [
        " http://www.reddit.com/r/news/comments/201zqj/2_teens_kill_classmate_behind_high_school_caught/\n",
        "Fetching info for"
       ]
      },
      {
       "output_type": "stream",
       "stream": "stdout",
       "text": [
        " http://www.reddit.com/r/news/comments/20226t/pizza_chain_sbarro_files_for_bankruptcy/\n",
        "Fetching info for"
       ]
      },
      {
       "output_type": "stream",
       "stream": "stdout",
       "text": [
        " http://www.reddit.com/r/Music/comments/201spe/tom_waits_way_down_in_the_hole_bluesrock/\n",
        "Fetching info for"
       ]
      },
      {
       "output_type": "stream",
       "stream": "stdout",
       "text": [
        " http://www.reddit.com/r/news/comments/203qf4/alcoholic_and_sick_homeless_man_dies_after_5_days/\n",
        "Fetching info for"
       ]
      },
      {
       "output_type": "stream",
       "stream": "stdout",
       "text": [
        " http://www.reddit.com/r/AdviceAnimals/comments/203g7l/if_we_are_being_honest_here/\n",
        "Fetching info for"
       ]
      },
      {
       "output_type": "stream",
       "stream": "stdout",
       "text": [
        " http://www.reddit.com/r/funny/comments/2037xf/ohi_guess_it_wasnt_locked/\n",
        "Fetching info for"
       ]
      },
      {
       "output_type": "stream",
       "stream": "stdout",
       "text": [
        " http://www.reddit.com/r/funny/comments/202gnx/baseball_child/\n",
        "Fetching info for"
       ]
      },
      {
       "output_type": "stream",
       "stream": "stdout",
       "text": [
        " http://www.reddit.com/r/EarthPorn/comments/201rdu/tombstone_yukon_canada_1600x977_oc/\n",
        "Fetching info for"
       ]
      },
      {
       "output_type": "stream",
       "stream": "stdout",
       "text": [
        " http://www.reddit.com/r/AdviceAnimals/comments/2036vq/its_surprising_who_you_meet_at_college_but_i/\n",
        "Fetching info for"
       ]
      },
      {
       "output_type": "stream",
       "stream": "stdout",
       "text": [
        " http://www.reddit.com/r/videos/comments/2049un/if_popular_youtubers_were_indian/\n",
        "Fetching info for"
       ]
      },
      {
       "output_type": "stream",
       "stream": "stdout",
       "text": [
        " http://www.reddit.com/r/AdviceAnimals/comments/2048g2/let_me_change_that_for_you_to_a_completely/\n",
        "Fetching info for"
       ]
      },
      {
       "output_type": "stream",
       "stream": "stdout",
       "text": [
        " http://www.reddit.com/r/funny/comments/2029l8/my_high_school_just_did_shrek_the_musical_the_kid/\n",
        "Fetching info for"
       ]
      },
      {
       "output_type": "stream",
       "stream": "stdout",
       "text": [
        " http://www.reddit.com/r/sports/comments/2024uk/tiger_woods_opening_drive_yesterday_hits_fan_on/\n",
        "Fetching info for"
       ]
      },
      {
       "output_type": "stream",
       "stream": "stdout",
       "text": [
        " http://www.reddit.com/r/aww/comments/202lh8/huskyretriever_mix/\n",
        "Fetching info for"
       ]
      },
      {
       "output_type": "stream",
       "stream": "stdout",
       "text": [
        " http://www.reddit.com/r/askscience/comments/202jgz/does_any_organism_grow_metal_or_similar/\n",
        "Fetching info for"
       ]
      },
      {
       "output_type": "stream",
       "stream": "stdout",
       "text": [
        " http://www.reddit.com/r/pics/comments/203vfp/my_baby_sister_with_her_doll/\n",
        "Fetching info for"
       ]
      },
      {
       "output_type": "stream",
       "stream": "stdout",
       "text": [
        " http://www.reddit.com/r/pics/comments/2028ic/jgl_doing_shoulder_presses_in_full_robin_costume/\n",
        "Fetching info for"
       ]
      },
      {
       "output_type": "stream",
       "stream": "stdout",
       "text": [
        " http://www.reddit.com/r/funny/comments/202do0/let_us_never_speak_of_this_again/\n",
        "Fetching info for"
       ]
      },
      {
       "output_type": "stream",
       "stream": "stdout",
       "text": [
        " http://www.reddit.com/r/funny/comments/202jak/so_this_exists/\n",
        "Fetching info for"
       ]
      },
      {
       "output_type": "stream",
       "stream": "stdout",
       "text": [
        " http://www.reddit.com/r/funny/comments/2036nc/shes_not_wrong/\n",
        "Fetching info for"
       ]
      },
      {
       "output_type": "stream",
       "stream": "stdout",
       "text": [
        " http://www.reddit.com/r/gaming/comments/202xdt/3dprinted_keaton_mask/\n",
        "Fetching info for"
       ]
      },
      {
       "output_type": "stream",
       "stream": "stdout",
       "text": [
        " http://www.reddit.com/r/gaming/comments/2049qe/question_about_xbone_turtle_beach_chat/\n",
        "Fetching info for"
       ]
      },
      {
       "output_type": "stream",
       "stream": "stdout",
       "text": [
        " http://www.reddit.com/r/gaming/comments/203nkz/mario_on_7980x1080/\n",
        "Fetching info for"
       ]
      },
      {
       "output_type": "stream",
       "stream": "stdout",
       "text": [
        " http://www.reddit.com/r/explainlikeimfive/comments/2049n5/eli5why_do_i_sometimes_think_i_smell_funny_when/\n",
        "Fetching info for"
       ]
      },
      {
       "output_type": "stream",
       "stream": "stdout",
       "text": [
        " http://www.reddit.com/r/funny/comments/202sba/just_a_reminder_to_all_the_people_getting_excited/\n",
        "Fetching info for"
       ]
      },
      {
       "output_type": "stream",
       "stream": "stdout",
       "text": [
        " http://www.reddit.com/r/gifs/comments/203hc5/putin_reacts_to_another_man_kissing_his_hand/\n",
        "Fetching info for"
       ]
      },
      {
       "output_type": "stream",
       "stream": "stdout",
       "text": [
        " http://www.reddit.com/r/AdviceAnimals/comments/2028v9/expert_cuisine_taco_con_perro_caliente/\n",
        "Fetching info for"
       ]
      },
      {
       "output_type": "stream",
       "stream": "stdout",
       "text": [
        " http://www.reddit.com/r/explainlikeimfive/comments/203lvv/eli5_do_we_have_any_system_of_direction_in_outer/\n",
        "Fetching info for"
       ]
      },
      {
       "output_type": "stream",
       "stream": "stdout",
       "text": [
        " http://www.reddit.com/r/aww/comments/203hk7/wife_was_taking_a_bath_and_sent_me_this/\n",
        "Fetching info for"
       ]
      },
      {
       "output_type": "stream",
       "stream": "stdout",
       "text": [
        " http://www.reddit.com/r/funny/comments/203pbn/troubled_turtle_kid/\n",
        "Fetching info for"
       ]
      },
      {
       "output_type": "stream",
       "stream": "stdout",
       "text": [
        " http://www.reddit.com/r/explainlikeimfive/comments/201e2t/eli5_what_exactly_happens_when_i_hold_back_a/\n",
        "Fetching info for"
       ]
      },
      {
       "output_type": "stream",
       "stream": "stdout",
       "text": [
        " http://www.reddit.com/r/AskReddit/comments/2049xa/if_you_were_to_describe_the_vibe_of_the_place_you/\n",
        "Fetching info for"
       ]
      },
      {
       "output_type": "stream",
       "stream": "stdout",
       "text": [
        " http://www.reddit.com/r/IAmA/comments/202b0y/i_am_glenn_howerton_aka_dennis_from_always_sunny/\n",
        "Fetching info for"
       ]
      },
      {
       "output_type": "stream",
       "stream": "stdout",
       "text": [
        " http://www.reddit.com/r/todayilearned/comments/20310q/til_chewing_of_the_drug_khat_is_so_popular_in/\n",
        "Fetching info for"
       ]
      },
      {
       "output_type": "stream",
       "stream": "stdout",
       "text": [
        " http://www.reddit.com/r/bestof/comments/20297j/uvonadler_explains_how_the_finns_beat_back_the/\n",
        "Fetching info for"
       ]
      },
      {
       "output_type": "stream",
       "stream": "stdout",
       "text": [
        " http://www.reddit.com/r/funny/comments/203edt/this_would_be_me_if_i_was_kidnapped/\n",
        "Fetching info for"
       ]
      },
      {
       "output_type": "stream",
       "stream": "stdout",
       "text": [
        " http://www.reddit.com/r/gaming/comments/2023te/never_give_up_never_surrender/\n",
        "Fetching info for"
       ]
      },
      {
       "output_type": "stream",
       "stream": "stdout",
       "text": [
        " http://www.reddit.com/r/news/comments/2049ux/fyffes_and_chiquita_to_create_biggest_banana_firm/\n",
        "Fetching info for"
       ]
      },
      {
       "output_type": "stream",
       "stream": "stdout",
       "text": [
        " http://www.reddit.com/r/gaming/comments/203bah/after_playing_tomb_raider_2013/\n",
        "Fetching info for"
       ]
      },
      {
       "output_type": "stream",
       "stream": "stdout",
       "text": [
        " http://www.reddit.com/r/pics/comments/2049on/dude_couldnt_fit_this_massive_box_in_his_car/\n",
        "Fetching info for"
       ]
      },
      {
       "output_type": "stream",
       "stream": "stdout",
       "text": [
        " http://www.reddit.com/r/gaming/comments/202xd1/seems_legit_gtav/\n",
        "Fetching info for"
       ]
      },
      {
       "output_type": "stream",
       "stream": "stdout",
       "text": [
        " http://www.reddit.com/r/AskReddit/comments/2049u1/what_actor_would_make_the_worst_villain_in_a_movie/\n",
        "Fetching info for"
       ]
      },
      {
       "output_type": "stream",
       "stream": "stdout",
       "text": [
        " http://www.reddit.com/r/gaming/comments/2049l3/you_win_for_now_sony_you_win_for_now/\n",
        "Fetching info for"
       ]
      },
      {
       "output_type": "stream",
       "stream": "stdout",
       "text": [
        " http://www.reddit.com/r/explainlikeimfive/comments/203pnx/eli5_how_do_tv_shows_make_money_by_putting_their/\n",
        "Fetching info for"
       ]
      },
      {
       "output_type": "stream",
       "stream": "stdout",
       "text": [
        " http://www.reddit.com/r/EarthPorn/comments/201qor/crater_lake_oregon_photo_by_marc_adamus_764x465/\n",
        "Fetching info for"
       ]
      },
      {
       "output_type": "stream",
       "stream": "stdout",
       "text": [
        " http://www.reddit.com/r/AdviceAnimals/comments/202py8/every_time_somebody_mentions_obama_around_my_uncle/\n",
        "Fetching info for"
       ]
      },
      {
       "output_type": "stream",
       "stream": "stdout",
       "text": [
        " http://www.reddit.com/r/pics/comments/202udl/unfortunately_they_dont_deliver/\n",
        "Fetching info for"
       ]
      },
      {
       "output_type": "stream",
       "stream": "stdout",
       "text": [
        " http://www.reddit.com/r/pics/comments/203noq/i_took_my_son_on_his_first_ever_swing_this/\n",
        "Fetching info for"
       ]
      },
      {
       "output_type": "stream",
       "stream": "stdout",
       "text": [
        " http://www.reddit.com/r/pics/comments/201w07/a_welltimed_pic_of_me_igniting_my_jewelers_torch/\n",
        "Fetching info for"
       ]
      },
      {
       "output_type": "stream",
       "stream": "stdout",
       "text": [
        " http://www.reddit.com/r/aww/comments/2039hr/satisfied_with_his_belly_rub/\n",
        "Fetching info for"
       ]
      },
      {
       "output_type": "stream",
       "stream": "stdout",
       "text": [
        " http://www.reddit.com/r/AdviceAnimals/comments/2037sc/every_time_i_see_an_amazing_ama/\n",
        "Fetching info for"
       ]
      },
      {
       "output_type": "stream",
       "stream": "stdout",
       "text": [
        " http://www.reddit.com/r/funny/comments/202gag/he_falls_asleep_like_this_in_class_every_day_with/\n",
        "Fetching info for"
       ]
      },
      {
       "output_type": "stream",
       "stream": "stdout",
       "text": [
        " http://www.reddit.com/r/AskReddit/comments/20236g/if_one_animal_had_our_level_of_intelligence_which/\n",
        "Fetching info for"
       ]
      },
      {
       "output_type": "stream",
       "stream": "stdout",
       "text": [
        " http://www.reddit.com/r/science/comments/2021lo/study_advertisements_telling_smokers_why_to_quit/\n",
        "Fetching info for"
       ]
      },
      {
       "output_type": "stream",
       "stream": "stdout",
       "text": [
        " http://www.reddit.com/r/videos/comments/202a0q/which_is_the_killer_current_or_voltage_funny_stuff/\n",
        "Fetching info for"
       ]
      },
      {
       "output_type": "stream",
       "stream": "stdout",
       "text": [
        " http://www.reddit.com/r/todayilearned/comments/202stz/til_the_term_third_world_actually_refers_to_a/\n",
        "Fetching info for"
       ]
      },
      {
       "output_type": "stream",
       "stream": "stdout",
       "text": [
        " http://www.reddit.com/r/worldnews/comments/203hiy/in_egypt_people_are_pissed_off_because_of_slow/\n",
        "Fetching info for"
       ]
      },
      {
       "output_type": "stream",
       "stream": "stdout",
       "text": [
        " http://www.reddit.com/r/AdviceAnimals/comments/2049p1/is_the_world_ending/\n",
        "Fetching info for"
       ]
      },
      {
       "output_type": "stream",
       "stream": "stdout",
       "text": [
        " http://www.reddit.com/r/funny/comments/2049js/good_to_know/\n",
        "Fetching info for"
       ]
      },
      {
       "output_type": "stream",
       "stream": "stdout",
       "text": [
        " http://www.reddit.com/r/funny/comments/203b18/come_back/\n",
        "Fetching info for"
       ]
      },
      {
       "output_type": "stream",
       "stream": "stdout",
       "text": [
        " http://www.reddit.com/r/AdviceAnimals/comments/2048g9/when_i_tried_to_comment_in_rcreepypms/\n",
        "Fetching info for"
       ]
      },
      {
       "output_type": "stream",
       "stream": "stdout",
       "text": [
        " http://www.reddit.com/r/aww/comments/2049qb/some_say_hes_still_waiting_till_this_day/\n",
        "Fetching info for"
       ]
      },
      {
       "output_type": "stream",
       "stream": "stdout",
       "text": [
        " http://www.reddit.com/r/todayilearned/comments/202ag0/til_the_animatronic_spider_used_in_arachnophobia/\n",
        "Fetching info for"
       ]
      },
      {
       "output_type": "stream",
       "stream": "stdout",
       "text": [
        " http://www.reddit.com/r/aww/comments/2023o9/not_sure_why_we_bought_2_beds/\n",
        "Fetching info for"
       ]
      },
      {
       "output_type": "stream",
       "stream": "stdout",
       "text": [
        " http://www.reddit.com/r/AdviceAnimals/comments/203cwa/since_i_heard_it_was_ending_i_tried_to_get_into/\n",
        "Fetching info for"
       ]
      },
      {
       "output_type": "stream",
       "stream": "stdout",
       "text": [
        " http://www.reddit.com/r/gaming/comments/2029od/breaking_news_raichu_is_now_electricflying/\n",
        "Fetching info for"
       ]
      },
      {
       "output_type": "stream",
       "stream": "stdout",
       "text": [
        " http://www.reddit.com/r/funny/comments/202cz0/why_men_shave_their_pubic_hair/\n",
        "Fetching info for"
       ]
      },
      {
       "output_type": "stream",
       "stream": "stdout",
       "text": [
        " http://www.reddit.com/r/gaming/comments/201mef/got_lost_in_madrid_and_ran_into_a_little_kid/\n",
        "Fetching info for"
       ]
      },
      {
       "output_type": "stream",
       "stream": "stdout",
       "text": [
        " http://www.reddit.com/r/Music/comments/2049kc/kevin_kuehler_love_lost_electronicpop/\n",
        "Fetching info for"
       ]
      },
      {
       "output_type": "stream",
       "stream": "stdout",
       "text": [
        " http://www.reddit.com/r/funny/comments/20323r/slow_clap/\n",
        "Fetching info for"
       ]
      },
      {
       "output_type": "stream",
       "stream": "stdout",
       "text": [
        " http://www.reddit.com/r/videos/comments/2023zr/just_a_reminder_this_is_tomorrow_im_so_excited/\n",
        "Fetching info for"
       ]
      },
      {
       "output_type": "stream",
       "stream": "stdout",
       "text": [
        " http://www.reddit.com/r/news/comments/20288q/comprehensive_timeline_malaysia_airlines_flight/\n",
        "Fetching info for"
       ]
      },
      {
       "output_type": "stream",
       "stream": "stdout",
       "text": [
        " http://www.reddit.com/r/pics/comments/2021hf/food_disguised_as_other_food_art/\n",
        "Fetching info for"
       ]
      },
      {
       "output_type": "stream",
       "stream": "stdout",
       "text": [
        " http://www.reddit.com/r/funny/comments/202ov9/you_may_be_cool_but_youll_never_be_holding_your/\n",
        "Fetching info for"
       ]
      },
      {
       "output_type": "stream",
       "stream": "stdout",
       "text": [
        " http://www.reddit.com/r/AdviceAnimals/comments/2035eo/its_taken_radviceanimals_by_storm/\n",
        "Fetching info for"
       ]
      },
      {
       "output_type": "stream",
       "stream": "stdout",
       "text": [
        " http://www.reddit.com/r/explainlikeimfive/comments/2040rz/eli5_how_does_shazam_recognize_a_song_from_any/\n",
        "Fetching info for"
       ]
      },
      {
       "output_type": "stream",
       "stream": "stdout",
       "text": [
        " http://www.reddit.com/r/pics/comments/2027y4/oregon_contra_luz_opal_from_oregon_usa_xpost/\n",
        "Fetching info for"
       ]
      },
      {
       "output_type": "stream",
       "stream": "stdout",
       "text": [
        " http://www.reddit.com/r/funny/comments/202eg6/springtime/\n",
        "Fetching info for"
       ]
      },
      {
       "output_type": "stream",
       "stream": "stdout",
       "text": [
        " http://www.reddit.com/r/books/comments/201m4i/get_high_on_scifi_10_short_story_collections_that/\n",
        "Fetching info for"
       ]
      },
      {
       "output_type": "stream",
       "stream": "stdout",
       "text": [
        " http://www.reddit.com/r/aww/comments/2027hw/goodbye_cruel_world_i_just_gave_him_a_bath/\n",
        "Fetching info for"
       ]
      },
      {
       "output_type": "stream",
       "stream": "stdout",
       "text": [
        " http://www.reddit.com/r/videos/comments/202qg4/in_comparison_to_justin_biebers_deposition/\n",
        "Fetching info for"
       ]
      },
      {
       "output_type": "stream",
       "stream": "stdout",
       "text": [
        " http://www.reddit.com/r/AskReddit/comments/203gjx/serious_ex_members_of_the_kkk_why_did_you_quit/\n",
        "Fetching info for"
       ]
      },
      {
       "output_type": "stream",
       "stream": "stdout",
       "text": [
        " http://www.reddit.com/r/videos/comments/203fq7/teachers_read_tweets_about_themselves/\n",
        "Fetching info for"
       ]
      },
      {
       "output_type": "stream",
       "stream": "stdout",
       "text": [
        " http://www.reddit.com/r/AskReddit/comments/2049ro/parents_of_reddit_what_is_1_thing_you_know_about/\n",
        "Fetching info for"
       ]
      },
      {
       "output_type": "stream",
       "stream": "stdout",
       "text": [
        " http://www.reddit.com/r/videos/comments/2049s9/how_languages_sound_like_to_a_nonspeaker/\n",
        "Fetching info for"
       ]
      },
      {
       "output_type": "stream",
       "stream": "stdout",
       "text": [
        " http://www.reddit.com/r/EarthPorn/comments/203jc6/beautiful_kashmir_india_1024_768/\n",
        "Fetching info for"
       ]
      },
      {
       "output_type": "stream",
       "stream": "stdout",
       "text": [
        " http://www.reddit.com/r/todayilearned/comments/203ryk/til_beethoven_won_a_sight_reading_piano/\n",
        "Fetching info for"
       ]
      },
      {
       "output_type": "stream",
       "stream": "stdout",
       "text": [
        " http://www.reddit.com/r/AdviceAnimals/comments/202k6p/i_live_across_the_river_from_a_naval_air_station/\n",
        "Fetching info for"
       ]
      },
      {
       "output_type": "stream",
       "stream": "stdout",
       "text": [
        " http://www.reddit.com/r/Music/comments/201syz/massive_attack_mezzanine_full_album_triphop_this/\n",
        "Fetching info for"
       ]
      },
      {
       "output_type": "stream",
       "stream": "stdout",
       "text": [
        " http://www.reddit.com/r/pics/comments/202osy/close_enough/\n",
        "Fetching info for"
       ]
      },
      {
       "output_type": "stream",
       "stream": "stdout",
       "text": [
        " http://www.reddit.com/r/todayilearned/comments/2024jz/til_that_anthony_hopkins_holds_the_record_for/\n",
        "Fetching info for"
       ]
      },
      {
       "output_type": "stream",
       "stream": "stdout",
       "text": [
        " http://www.reddit.com/r/Music/comments/203sor/gorillaz_empire_ants_electronic/\n",
        "Fetching info for"
       ]
      },
      {
       "output_type": "stream",
       "stream": "stdout",
       "text": [
        " http://www.reddit.com/r/gaming/comments/202cbl/what_nearly_2000_worth_of_club_nintendo_coins/\n",
        "Fetching info for"
       ]
      },
      {
       "output_type": "stream",
       "stream": "stdout",
       "text": [
        " http://www.reddit.com/r/news/comments/2035ar/feds_charge_man_for_years_of_illegal_offthebooks/\n",
        "Fetching info for"
       ]
      },
      {
       "output_type": "stream",
       "stream": "stdout",
       "text": [
        " http://www.reddit.com/r/AdviceAnimals/comments/2049rt/goal_is_1000_by_christmas/\n",
        "Fetching info for"
       ]
      },
      {
       "output_type": "stream",
       "stream": "stdout",
       "text": [
        " http://www.reddit.com/r/AdviceAnimals/comments/203170/some_instant_karma_to_a_dickhead_spring_driver/\n",
        "Fetching info for"
       ]
      },
      {
       "output_type": "stream",
       "stream": "stdout",
       "text": [
        " http://www.reddit.com/r/funny/comments/203cbo/i_was_playing_around_with_it_for_10_minutes_i/\n",
        "Fetching info for"
       ]
      },
      {
       "output_type": "stream",
       "stream": "stdout",
       "text": [
        " http://www.reddit.com/r/AskReddit/comments/2049sl/what_makes_the_united_states_the_best_country_in/\n",
        "Fetching info for"
       ]
      },
      {
       "output_type": "stream",
       "stream": "stdout",
       "text": [
        " http://www.reddit.com/r/AdviceAnimals/comments/2034pb/but_hell_if_im_saying_anything_about_it/\n",
        "Fetching info for"
       ]
      },
      {
       "output_type": "stream",
       "stream": "stdout",
       "text": [
        " http://www.reddit.com/r/funny/comments/202ohm/essential/\n",
        "Fetching info for"
       ]
      },
      {
       "output_type": "stream",
       "stream": "stdout",
       "text": [
        " http://www.reddit.com/r/gaming/comments/203tzy/got_back_with_my_girl_after_3_years_in_the_navy/\n",
        "Fetching info for"
       ]
      },
      {
       "output_type": "stream",
       "stream": "stdout",
       "text": [
        " http://www.reddit.com/r/AdviceAnimals/comments/203dzy/my_friend_only_recently_found_out_her_mom_would/\n",
        "Fetching info for"
       ]
      },
      {
       "output_type": "stream",
       "stream": "stdout",
       "text": [
        " http://www.reddit.com/r/Music/comments/2049nr/judah_the_lion_hesitate_american_folk/\n",
        "Fetching info for"
       ]
      },
      {
       "output_type": "stream",
       "stream": "stdout",
       "text": [
        " http://www.reddit.com/r/AdviceAnimals/comments/202xj6/sisterinlaw/\n",
        "Fetching info for"
       ]
      },
      {
       "output_type": "stream",
       "stream": "stdout",
       "text": [
        " http://www.reddit.com/r/AdviceAnimals/comments/2049rc/if_were_being_really_honest_here/\n",
        "Fetching info for"
       ]
      },
      {
       "output_type": "stream",
       "stream": "stdout",
       "text": [
        " http://www.reddit.com/r/pics/comments/2049xu/this_girl_is_much_excite/\n",
        "Fetching info for"
       ]
      },
      {
       "output_type": "stream",
       "stream": "stdout",
       "text": [
        " http://www.reddit.com/r/IAmA/comments/202owt/we_are_dan_harmon_and_justin_roiland_creators_of/\n",
        "Fetching info for"
       ]
      },
      {
       "output_type": "stream",
       "stream": "stdout",
       "text": [
        " http://www.reddit.com/r/AdviceAnimals/comments/2049jm/every_time_reddit_goes_down/\n",
        "Fetching info for"
       ]
      },
      {
       "output_type": "stream",
       "stream": "stdout",
       "text": [
        " http://www.reddit.com/r/funny/comments/2049ss/friend_on_facebook_got_a_parking_ticket/\n",
        "Fetching info for"
       ]
      },
      {
       "output_type": "stream",
       "stream": "stdout",
       "text": [
        " http://www.reddit.com/r/sports/comments/203ms2/dallas_stars_forward_rich_peverley_collapsed_on/\n",
        "Fetching info for"
       ]
      },
      {
       "output_type": "stream",
       "stream": "stdout",
       "text": [
        " http://www.reddit.com/r/AdviceAnimals/comments/2049m7/and_if_i_thought_she_was_mad_before/\n",
        "Fetching info for"
       ]
      },
      {
       "output_type": "stream",
       "stream": "stdout",
       "text": [
        " http://www.reddit.com/r/news/comments/202ir1/california_man_gets_14_years_in_prison_for_lasing/\n",
        "Fetching info for"
       ]
      },
      {
       "output_type": "stream",
       "stream": "stdout",
       "text": [
        " http://www.reddit.com/r/AskReddit/comments/202d56/if_you_were_trapped_in_an_elevator_with_the/\n",
        "Fetching info for"
       ]
      },
      {
       "output_type": "stream",
       "stream": "stdout",
       "text": [
        " http://www.reddit.com/r/funny/comments/203oku/found_this_in_the_bathroom_at_work_today/\n",
        "Fetching info for"
       ]
      },
      {
       "output_type": "stream",
       "stream": "stdout",
       "text": [
        " http://www.reddit.com/r/gaming/comments/20315n/what_is_this_rules_you_speak_of/\n",
        "Fetching info for"
       ]
      },
      {
       "output_type": "stream",
       "stream": "stdout",
       "text": [
        " http://www.reddit.com/r/funny/comments/2038ck/close_enough/\n",
        "Fetching info for"
       ]
      },
      {
       "output_type": "stream",
       "stream": "stdout",
       "text": [
        " http://www.reddit.com/r/funny/comments/203em9/a_sign_that_applies_to_many_redditors/\n",
        "Fetching info for"
       ]
      },
      {
       "output_type": "stream",
       "stream": "stdout",
       "text": [
        " http://www.reddit.com/r/technology/comments/203f2c/intels_new_cable_promises_800gbps_in_bandwidth/\n",
        "Fetching info for"
       ]
      },
      {
       "output_type": "stream",
       "stream": "stdout",
       "text": [
        " http://www.reddit.com/r/funny/comments/202gcf/when_stealing_ipads_dont_forget_to_upload_a_pic/\n",
        "Fetching info for"
       ]
      },
      {
       "output_type": "stream",
       "stream": "stdout",
       "text": [
        " http://www.reddit.com/r/gifs/comments/202ich/paper_marbling/\n",
        "Fetching info for"
       ]
      },
      {
       "output_type": "stream",
       "stream": "stdout",
       "text": [
        " http://www.reddit.com/r/AdviceAnimals/comments/202gof/today_in_illinois/\n",
        "Fetching info for"
       ]
      },
      {
       "output_type": "stream",
       "stream": "stdout",
       "text": [
        " http://www.reddit.com/r/pics/comments/202gwa/ridiculously_photogenic_baby/\n",
        "Fetching info for"
       ]
      },
      {
       "output_type": "stream",
       "stream": "stdout",
       "text": [
        " http://www.reddit.com/r/AdviceAnimals/comments/20287z/i_am_not_exactly_proud_of_this/\n",
        "Fetching info for"
       ]
      },
      {
       "output_type": "stream",
       "stream": "stdout",
       "text": [
        " http://www.reddit.com/r/AdviceAnimals/comments/203oxg/after_submitting_three_unsuccessful_cake_day_posts/\n",
        "Fetching info for"
       ]
      },
      {
       "output_type": "stream",
       "stream": "stdout",
       "text": [
        " http://www.reddit.com/r/science/comments/2024kc/up_to_five_percent_of_perfectly_healthy_people/\n",
        "Fetching info for"
       ]
      },
      {
       "output_type": "stream",
       "stream": "stdout",
       "text": [
        " http://www.reddit.com/r/videos/comments/2049p6/golf_ball_hit_at_140mph/\n",
        "Fetching info for"
       ]
      },
      {
       "output_type": "stream",
       "stream": "stdout",
       "text": [
        " http://www.reddit.com/r/gaming/comments/2049x0/unfortunately_there_aint_no_cure/\n",
        "Fetching info for"
       ]
      },
      {
       "output_type": "stream",
       "stream": "stdout",
       "text": [
        " http://www.reddit.com/r/AdviceAnimals/comments/2049li/in_the_tradition_of_wildly_successful_fantasy/\n",
        "Fetching info for"
       ]
      },
      {
       "output_type": "stream",
       "stream": "stdout",
       "text": [
        " http://www.reddit.com/r/gaming/comments/2049ol/spoiler_princess_kenny_sp_sot/\n",
        "Fetching info for"
       ]
      },
      {
       "output_type": "stream",
       "stream": "stdout",
       "text": [
        " http://www.reddit.com/r/AdviceAnimals/comments/203g2k/may_lose_my_nerd_card_over_this_unpopular_opinion/\n",
        "Fetching info for"
       ]
      },
      {
       "output_type": "stream",
       "stream": "stdout",
       "text": [
        " http://www.reddit.com/r/aww/comments/2035zx/always_been_a_dog_guy_decided_to_give_cats_a_try/\n",
        "Fetching info for"
       ]
      },
      {
       "output_type": "stream",
       "stream": "stdout",
       "text": [
        " http://www.reddit.com/r/todayilearned/comments/2049we/til_cognitive_dissonance_is_the_feeling_you_get/\n",
        "Fetching info for"
       ]
      },
      {
       "output_type": "stream",
       "stream": "stdout",
       "text": [
        " http://www.reddit.com/r/todayilearned/comments/203hin/til_that_john_cazale_fredo_corleone_from_the/\n",
        "Fetching info for"
       ]
      },
      {
       "output_type": "stream",
       "stream": "stdout",
       "text": [
        " http://www.reddit.com/r/funny/comments/203kr7/made_this_in_an_art_class_all_they_said_was_to/\n",
        "Fetching info for"
       ]
      },
      {
       "output_type": "stream",
       "stream": "stdout",
       "text": [
        " http://www.reddit.com/r/funny/comments/202ezn/this_is_how_real_men_flirt/\n",
        "Fetching info for"
       ]
      },
      {
       "output_type": "stream",
       "stream": "stdout",
       "text": [
        " http://www.reddit.com/r/AdviceAnimals/comments/203d02/i_swear_to_god_i_see_ten_of_these_in_new_every_day/\n",
        "Fetching info for"
       ]
      },
      {
       "output_type": "stream",
       "stream": "stdout",
       "text": [
        " http://www.reddit.com/r/pics/comments/201q95/extras_on_the_set_of_cleopatra_1963/\n",
        "Fetching info for"
       ]
      },
      {
       "output_type": "stream",
       "stream": "stdout",
       "text": [
        " http://www.reddit.com/r/pics/comments/2049kz/ice_castle_yellowknife_nwt_canada/\n",
        "Fetching info for"
       ]
      },
      {
       "output_type": "stream",
       "stream": "stdout",
       "text": [
        " http://www.reddit.com/r/AdviceAnimals/comments/2049xb/ill_never_get_that_time_back/\n",
        "Fetching info for"
       ]
      },
      {
       "output_type": "stream",
       "stream": "stdout",
       "text": [
        " http://www.reddit.com/r/videos/comments/203qos/website_model_involuntarily_pumps_up_the_jam/\n",
        "Fetching info for"
       ]
      },
      {
       "output_type": "stream",
       "stream": "stdout",
       "text": [
        " http://www.reddit.com/r/AdviceAnimals/comments/202s02/this_about_sums_up_my_experience_trying_to_be/\n",
        "Fetching info for"
       ]
      },
      {
       "output_type": "stream",
       "stream": "stdout",
       "text": [
        " http://www.reddit.com/r/pics/comments/20308k/my_two_year_old_nephew_on_his_birthday/\n",
        "Fetching info for"
       ]
      },
      {
       "output_type": "stream",
       "stream": "stdout",
       "text": [
        " http://www.reddit.com/r/worldnews/comments/203g7i/abc_news_reports_a_satellite_imaging_company_out/\n",
        "Fetching info for"
       ]
      },
      {
       "output_type": "stream",
       "stream": "stdout",
       "text": [
        " http://www.reddit.com/r/AdviceAnimals/comments/203686/redditors_wife/\n",
        "Fetching info for"
       ]
      },
      {
       "output_type": "stream",
       "stream": "stdout",
       "text": [
        " http://www.reddit.com/r/aww/comments/202mep/my_little_meerkat/\n",
        "Fetching info for"
       ]
      },
      {
       "output_type": "stream",
       "stream": "stdout",
       "text": [
        " http://www.reddit.com/r/aww/comments/2049oi/stirfry_and_grace_ive_never_seen_two_creatures/\n",
        "Fetching info for"
       ]
      },
      {
       "output_type": "stream",
       "stream": "stdout",
       "text": [
        " http://www.reddit.com/r/explainlikeimfive/comments/203qn8/eli5_why_did_the_hobbit_frame_rate_matter_and/\n",
        "Fetching info for"
       ]
      },
      {
       "output_type": "stream",
       "stream": "stdout",
       "text": [
        " http://www.reddit.com/r/pics/comments/2036bk/mother_and_daughter_on_a_walk/\n",
        "Fetching info for"
       ]
      },
      {
       "output_type": "stream",
       "stream": "stdout",
       "text": [
        " http://www.reddit.com/r/gifs/comments/202b00/skills/\n",
        "Fetching info for"
       ]
      },
      {
       "output_type": "stream",
       "stream": "stdout",
       "text": [
        " http://www.reddit.com/r/funny/comments/202miw/batman_drop_that_tune/\n",
        "Fetching info for"
       ]
      },
      {
       "output_type": "stream",
       "stream": "stdout",
       "text": [
        " http://www.reddit.com/r/AdviceAnimals/comments/203qow/girlfriend_is_out_of_the_house_for_a_week_sigh/\n",
        "Fetching info for"
       ]
      },
      {
       "output_type": "stream",
       "stream": "stdout",
       "text": [
        " http://www.reddit.com/r/gaming/comments/202xm3/neil_degrasse_tyson_in_cosmos_reminded_me_of/\n",
        "Fetching info for"
       ]
      },
      {
       "output_type": "stream",
       "stream": "stdout",
       "text": [
        " http://www.reddit.com/r/AdviceAnimals/comments/202y31/mrw_i_get_two_upvotes/\n",
        "Fetching info for"
       ]
      },
      {
       "output_type": "stream",
       "stream": "stdout",
       "text": [
        " http://www.reddit.com/r/funny/comments/2049su/they_dont_make_much_sales/\n",
        "Fetching info for"
       ]
      },
      {
       "output_type": "stream",
       "stream": "stdout",
       "text": [
        " http://www.reddit.com/r/gaming/comments/203nax/redditrleagueoflegends_got_hacked_by_nigerian/\n",
        "Fetching info for"
       ]
      },
      {
       "output_type": "stream",
       "stream": "stdout",
       "text": [
        " http://www.reddit.com/r/Music/comments/201va5/la_dispute_streaming_their_new_album/\n",
        "Fetching info for"
       ]
      },
      {
       "output_type": "stream",
       "stream": "stdout",
       "text": [
        " http://www.reddit.com/r/AdviceAnimals/comments/2049tu/oh_that_husky/\n",
        "Fetching info for"
       ]
      },
      {
       "output_type": "stream",
       "stream": "stdout",
       "text": [
        " http://www.reddit.com/r/science/comments/20271t/researchers_have_developed_a_blood_test_that/\n",
        "Fetching info for"
       ]
      },
      {
       "output_type": "stream",
       "stream": "stdout",
       "text": [
        " http://www.reddit.com/r/AdviceAnimals/comments/202v5t/my_thoughts_as_a_booknerd_reading_about_ukraine/\n",
        "Fetching info for"
       ]
      },
      {
       "output_type": "stream",
       "stream": "stdout",
       "text": [
        " http://www.reddit.com/r/news/comments/2049wg/web_design_kent_web_design_trends_for_2014/\n",
        "Fetching info for"
       ]
      },
      {
       "output_type": "stream",
       "stream": "stdout",
       "text": [
        " http://www.reddit.com/r/AdviceAnimals/comments/202w9b/ok_this_husky_is_really_starting_to_be_judgmental/\n",
        "Fetching info for"
       ]
      },
      {
       "output_type": "stream",
       "stream": "stdout",
       "text": [
        " http://www.reddit.com/r/worldnews/comments/203qrv/pentagon_spends_300000_per_year_to_study_body/\n",
        "Fetching info for"
       ]
      },
      {
       "output_type": "stream",
       "stream": "stdout",
       "text": [
        " http://www.reddit.com/r/gaming/comments/202b5u/so_dark_souls_2_comes_out_tomorrow/\n",
        "Fetching info for"
       ]
      },
      {
       "output_type": "stream",
       "stream": "stdout",
       "text": [
        " http://www.reddit.com/r/todayilearned/comments/202vlu/til_that_on_its_way_back_from_deployment_in_the/\n",
        "Fetching info for"
       ]
      },
      {
       "output_type": "stream",
       "stream": "stdout",
       "text": [
        " http://www.reddit.com/r/aww/comments/202nmv/my_grandpas_husky_boa_constrictor_and_cat_just/\n",
        "Fetching info for"
       ]
      },
      {
       "output_type": "stream",
       "stream": "stdout",
       "text": [
        " http://www.reddit.com/r/AskReddit/comments/202loi/reddit_what_is_the_biggest_misconception_that/\n",
        "Fetching info for"
       ]
      },
      {
       "output_type": "stream",
       "stream": "stdout",
       "text": [
        " http://www.reddit.com/r/todayilearned/comments/20238i/til_eminem_repeated_the_9th_grade_three_times/\n",
        "Fetching info for"
       ]
      },
      {
       "output_type": "stream",
       "stream": "stdout",
       "text": [
        " http://www.reddit.com/r/todayilearned/comments/201was/til_that_the_black_mamba_snake_one_of_the_most/\n",
        "Fetching info for"
       ]
      },
      {
       "output_type": "stream",
       "stream": "stdout",
       "text": [
        " http://www.reddit.com/r/technology/comments/2030qz/scientists_build_thinnestpossible_leds_to_be/\n",
        "Fetching info for"
       ]
      },
      {
       "output_type": "stream",
       "stream": "stdout",
       "text": [
        " http://www.reddit.com/r/AdviceAnimals/comments/203cky/my_friend_is_ggg/\n",
        "Fetching info for"
       ]
      },
      {
       "output_type": "stream",
       "stream": "stdout",
       "text": [
        " http://www.reddit.com/r/AdviceAnimals/comments/203fta/my_roommate_still_doesnt_believe_us_when_we_say/\n",
        "Fetching info for"
       ]
      },
      {
       "output_type": "stream",
       "stream": "stdout",
       "text": [
        " http://www.reddit.com/r/bestof/comments/202f7y/u1zzbw6_recounts_his_horrifying_war_on_rats_in/\n",
        "Fetching info for"
       ]
      },
      {
       "output_type": "stream",
       "stream": "stdout",
       "text": [
        " http://www.reddit.com/r/worldnews/comments/2049qf/ukraine_crisis_john_kerry_declines_vladimir_putin/\n",
        "Fetching info for"
       ]
      },
      {
       "output_type": "stream",
       "stream": "stdout",
       "text": [
        " http://www.reddit.com/r/pics/comments/2049o2/this_bug_landed_on_my_girlfriends_lunch_with_a/\n",
        "Fetching info for"
       ]
      },
      {
       "output_type": "stream",
       "stream": "stdout",
       "text": [
        " http://www.reddit.com/r/AdviceAnimals/comments/202yvx/i_am_so_so_sorry/\n",
        "Fetching info for"
       ]
      },
      {
       "output_type": "stream",
       "stream": "stdout",
       "text": [
        " http://www.reddit.com/r/movies/comments/203248/how_to_be_a_motion_picture_director/\n",
        "Fetching info for"
       ]
      },
      {
       "output_type": "stream",
       "stream": "stdout",
       "text": [
        " http://www.reddit.com/r/gifs/comments/202pt1/whoops/\n",
        "Fetching info for"
       ]
      },
      {
       "output_type": "stream",
       "stream": "stdout",
       "text": [
        " http://www.reddit.com/r/pics/comments/2049sq/this_selfie_is_out_of_this_world/\n",
        "Fetching info for"
       ]
      },
      {
       "output_type": "stream",
       "stream": "stdout",
       "text": [
        " http://www.reddit.com/r/television/comments/2027u3/8_south_park_facts_that_will_shock_people_who/\n",
        "Fetching info for"
       ]
      },
      {
       "output_type": "stream",
       "stream": "stdout",
       "text": [
        " http://www.reddit.com/r/videos/comments/2031n1/first_kiss_creator_asked_20_strangers_to_kiss_for/\n",
        "Fetching info for"
       ]
      },
      {
       "output_type": "stream",
       "stream": "stdout",
       "text": [
        " http://www.reddit.com/r/funny/comments/2026f6/someone_at_npr_is_getting_so_fired/\n",
        "Fetching info for"
       ]
      },
      {
       "output_type": "stream",
       "stream": "stdout",
       "text": [
        " http://www.reddit.com/r/funny/comments/2049pu/the_one_time_i_think_of_something_worth_posting/\n",
        "Fetching info for"
       ]
      },
      {
       "output_type": "stream",
       "stream": "stdout",
       "text": [
        " http://www.reddit.com/r/AskReddit/comments/2049ui/can_reddit_make_me_famous/\n",
        "Fetching info for"
       ]
      },
      {
       "output_type": "stream",
       "stream": "stdout",
       "text": [
        " http://www.reddit.com/r/gaming/comments/20203i/its_dangerous_to_go_alone/\n",
        "Fetching info for"
       ]
      },
      {
       "output_type": "stream",
       "stream": "stdout",
       "text": [
        " http://www.reddit.com/r/AdviceAnimals/comments/2049p0/i_swear_reddit_has_it_out_for_me/\n",
        "Fetching info for"
       ]
      },
      {
       "output_type": "stream",
       "stream": "stdout",
       "text": [
        " http://www.reddit.com/r/AskReddit/comments/2049kh/what_did_you_do_while_reddit_was_down/\n",
        "Fetching info for"
       ]
      },
      {
       "output_type": "stream",
       "stream": "stdout",
       "text": [
        " http://www.reddit.com/r/pics/comments/202gi5/woke_up_to_a_text_from_my_dad_saying_i_made_a_new/\n",
        "Fetching info for"
       ]
      },
      {
       "output_type": "stream",
       "stream": "stdout",
       "text": [
        " http://www.reddit.com/r/AdviceAnimals/comments/202d9g/my_scumbag_power_company/\n",
        "Fetching info for"
       ]
      },
      {
       "output_type": "stream",
       "stream": "stdout",
       "text": [
        " http://www.reddit.com/r/gifs/comments/203nnk/now_lets_see_that_in_slow_motion/\n",
        "Fetching info for"
       ]
      },
      {
       "output_type": "stream",
       "stream": "stdout",
       "text": [
        " http://www.reddit.com/r/pics/comments/2020su/what_a_baby_dolphin_looks_like/\n"
       ]
      }
     ],
     "prompt_number": 71
    },
    {
     "cell_type": "code",
     "collapsed": false,
     "input": [
      "df = pd.DataFrame(pages, columns=['Title', 'UpVotes', 'DownVotes', 'Time'])\n",
      "df.set_index('Time', inplace=True)\n",
      "df.sort(inplace=True)"
     ],
     "language": "python",
     "metadata": {},
     "outputs": [],
     "prompt_number": 72
    },
    {
     "cell_type": "code",
     "collapsed": false,
     "input": [
      "df['UpVotes'].plot(c='g')\n",
      "df['DownVotes'].plot(c='r')\n",
      "(df.UpVotes - df.DownVotes).plot(c='k')"
     ],
     "language": "python",
     "metadata": {},
     "outputs": [
      {
       "metadata": {},
       "output_type": "pyout",
       "prompt_number": 73,
       "text": [
        "<matplotlib.axes.AxesSubplot at 0x10bed5150>"
       ]
      },
      {
       "metadata": {},
       "output_type": "display_data",
       "png": "[encoded data removed]",
       "text": [
        "<matplotlib.figure.Figure at 0x10bed5f50>"
       ]
      }
     ],
     "prompt_number": 73
    },
    {
     "cell_type": "code",
     "collapsed": false,
     "input": [],
     "language": "python",
     "metadata": {},
     "outputs": [
      {
       "html": [
        "<div style=\"max-height:1000px;max-width:1500px;overflow:auto;\">\n",
        "<table border=\"1\" class=\"dataframe\">\n",
        "  <thead>\n",
        "    <tr style=\"text-align: right;\">\n",
        "      <th></th>\n",
        "      <th>Title</th>\n",
        "      <th>UpVotes</th>\n",
        "      <th>DownVotes</th>\n",
        "    </tr>\n",
        "    <tr>\n",
        "      <th>Time</th>\n",
        "      <th></th>\n",
        "      <th></th>\n",
        "      <th></th>\n",
        "    </tr>\n",
        "  </thead>\n",
        "  <tbody>\n",
        "    <tr>\n",
        "      <th>2014-03-11 06:03:17</th>\n",
        "      <td> Web Design Kent | Web Design Trends for 2014 (...</td>\n",
        "      <td>  1</td>\n",
        "      <td> 5</td>\n",
        "    </tr>\n",
        "    <tr>\n",
        "      <th>2014-03-11 06:03:32</th>\n",
        "      <td>    Unfortunately, there aint no cure. (imgur.com)</td>\n",
        "      <td>  1</td>\n",
        "      <td> 2</td>\n",
        "    </tr>\n",
        "    <tr>\n",
        "      <th>2014-03-11 06:03:36</th>\n",
        "      <td> If you were to describe the vibe of the place ...</td>\n",
        "      <td>  4</td>\n",
        "      <td> 0</td>\n",
        "    </tr>\n",
        "    <tr>\n",
        "      <th>2014-03-11 06:03:38</th>\n",
        "      <td>      I'll never get that time back... (imgur.com)</td>\n",
        "      <td> 12</td>\n",
        "      <td> 0</td>\n",
        "    </tr>\n",
        "    <tr>\n",
        "      <th>2014-03-11 06:03:45</th>\n",
        "      <td>              this girl is much excite (imgur.com)</td>\n",
        "      <td>  1</td>\n",
        "      <td> 9</td>\n",
        "    </tr>\n",
        "  </tbody>\n",
        "</table>\n",
        "<p>5 rows \u00d7 3 columns</p>\n",
        "</div>"
       ],
       "metadata": {},
       "output_type": "pyout",
       "prompt_number": 75,
       "text": [
        "                                                                 Title  \\\n",
        "Time                                                                     \n",
        "2014-03-11 06:03:17  Web Design Kent | Web Design Trends for 2014 (...   \n",
        "2014-03-11 06:03:32     Unfortunately, there aint no cure. (imgur.com)   \n",
        "2014-03-11 06:03:36  If you were to describe the vibe of the place ...   \n",
        "2014-03-11 06:03:38       I'll never get that time back... (imgur.com)   \n",
        "2014-03-11 06:03:45               this girl is much excite (imgur.com)   \n",
        "\n",
        "                     UpVotes  DownVotes  \n",
        "Time                                     \n",
        "2014-03-11 06:03:17        1          5  \n",
        "2014-03-11 06:03:32        1          2  \n",
        "2014-03-11 06:03:36        4          0  \n",
        "2014-03-11 06:03:38       12          0  \n",
        "2014-03-11 06:03:45        1          9  \n",
        "\n",
        "[5 rows x 3 columns]"
       ]
      }
     ],
     "prompt_number": 75
    },
    {
     "cell_type": "code",
     "collapsed": false,
     "input": [
      "df[df.Title.str.contains('two')]"
     ],
     "language": "python",
     "metadata": {},
     "outputs": [
      {
       "html": [
        "<div style=\"max-height:1000px;max-width:1500px;overflow:auto;\">\n",
        "<table border=\"1\" class=\"dataframe\">\n",
        "  <thead>\n",
        "    <tr style=\"text-align: right;\">\n",
        "      <th></th>\n",
        "      <th>Title</th>\n",
        "      <th>UpVotes</th>\n",
        "      <th>DownVotes</th>\n",
        "    </tr>\n",
        "    <tr>\n",
        "      <th>Time</th>\n",
        "      <th></th>\n",
        "      <th></th>\n",
        "      <th></th>\n",
        "    </tr>\n",
        "  </thead>\n",
        "  <tbody>\n",
        "    <tr>\n",
        "      <th>2014-03-10 21:30:15</th>\n",
        "      <td>               MRW I get two upvotes (i.imgur.com)</td>\n",
        "      <td>  1983</td>\n",
        "      <td>   684</td>\n",
        "    </tr>\n",
        "    <tr>\n",
        "      <th>2014-03-10 21:50:47</th>\n",
        "      <td> My two year old nephew on his birthday. (imgur...</td>\n",
        "      <td> 44669</td>\n",
        "      <td> 41331</td>\n",
        "    </tr>\n",
        "    <tr>\n",
        "      <th>2014-03-11 01:59:31</th>\n",
        "      <td> ELI5: How do TV shows make money by putting th...</td>\n",
        "      <td>   229</td>\n",
        "      <td>    63</td>\n",
        "    </tr>\n",
        "    <tr>\n",
        "      <th>2014-03-11 06:00:22</th>\n",
        "      <td> Stir-fry and Grace. I've never seen two creatu...</td>\n",
        "      <td>    10</td>\n",
        "      <td>     1</td>\n",
        "    </tr>\n",
        "  </tbody>\n",
        "</table>\n",
        "<p>4 rows \u00d7 3 columns</p>\n",
        "</div>"
       ],
       "metadata": {},
       "output_type": "pyout",
       "prompt_number": 84,
       "text": [
        "                                                                 Title  \\\n",
        "Time                                                                     \n",
        "2014-03-10 21:30:15                MRW I get two upvotes (i.imgur.com)   \n",
        "2014-03-10 21:50:47  My two year old nephew on his birthday. (imgur...   \n",
        "2014-03-11 01:59:31  ELI5: How do TV shows make money by putting th...   \n",
        "2014-03-11 06:00:22  Stir-fry and Grace. I've never seen two creatu...   \n",
        "\n",
        "                     UpVotes  DownVotes  \n",
        "Time                                     \n",
        "2014-03-10 21:30:15     1983        684  \n",
        "2014-03-10 21:50:47    44669      41331  \n",
        "2014-03-11 01:59:31      229         63  \n",
        "2014-03-11 06:00:22       10          1  \n",
        "\n",
        "[4 rows x 3 columns]"
       ]
      }
     ],
     "prompt_number": 84
    },
    {
     "cell_type": "code",
     "collapsed": false,
     "input": [],
     "language": "python",
     "metadata": {},
     "outputs": []
    }
   ],
   "metadata": {}
  }
 ]
}