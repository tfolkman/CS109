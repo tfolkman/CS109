{
 "metadata": {
  "name": ""
 },
 "nbformat": 3,
 "nbformat_minor": 0,
 "worksheets": [
  {
   "cells": [
    {
     "cell_type": "heading",
     "level": 3,
     "metadata": {},
     "source": [
      "NOTES"
     ]
    },
    {
     "cell_type": "markdown",
     "metadata": {},
     "source": [
      "A get request is most common type of HTTP. Can see it in the URL (after things like ? or #). Problems: Size limited and in plain text"
     ]
    },
    {
     "cell_type": "markdown",
     "metadata": {},
     "source": [
      "Post request doesnt send in URL, but sends in header of HTTP. Anonymous, but still in plain text; just not as visible"
     ]
    },
    {
     "cell_type": "markdown",
     "metadata": {},
     "source": [
      "HTML is what is used to create content; CSS is what is used to style the content. Defining a class in HTML allows you to call it out in CSS. A div allows you to add another class to sections of text."
     ]
    },
    {
     "cell_type": "markdown",
     "metadata": {},
     "source": [
      "On a page can also have an 'id.' An id is like a class but an element can only have one id and that id can only be used once per page"
     ]
    },
    {
     "cell_type": "markdown",
     "metadata": {},
     "source": [
      "DOM -> the heirarchy of the web page"
     ]
    },
    {
     "cell_type": "heading",
     "level": 3,
     "metadata": {},
     "source": [
      "PROGRAMS"
     ]
    },
    {
     "cell_type": "code",
     "collapsed": false,
     "input": [
      "import requests\n",
      "from bs4 import BeautifulSoup"
     ],
     "language": "python",
     "metadata": {},
     "outputs": [],
     "prompt_number": 5
    },
    {
     "cell_type": "heading",
     "level": 4,
     "metadata": {},
     "source": [
      "Task"
     ]
    },
    {
     "cell_type": "markdown",
     "metadata": {},
     "source": [
      "Scape this page: http://www.imdb.com/search/title?at=0&sort=num_votes,desc&start=1&title_type=feature&year=1950,2012"
     ]
    },
    {
     "cell_type": "code",
     "collapsed": false,
     "input": [
      "#Get source\n",
      "\n",
      "url = 'http://www.imdb.com/search/title'\n",
      "params = dict(sort='num_votes,desc', start=1, title_type='feature', year='1950,2012')\n",
      "r = requests.get(url, params=params)\n",
      "print r.url"
     ],
     "language": "python",
     "metadata": {},
     "outputs": [
      {
       "output_type": "stream",
       "stream": "stdout",
       "text": [
        "http://www.imdb.com/search/title?sort=num_votes%2Cdesc&start=1&title_type=feature&year=1950%2C2012\n"
       ]
      }
     ],
     "prompt_number": 7
    },
    {
     "cell_type": "code",
     "collapsed": false,
     "input": [
      "#Extract using BS\n",
      "\n",
      "bs = BeautifulSoup(r.text)\n",
      "#print bs.prettify()\n",
      "\n",
      "#Each td with class = title is what i want\n",
      "for movie in bs.findAll('td', 'title'):\n",
      "    #print movie.prettify()\n",
      "    #the first a tag is the title\n",
      "    title = movie.find('a').contents[0]\n",
      "    #get genre from span class = genre; but can be multiple a elements in the genre span; using the [0] allows me to not have lists in lists\n",
      "    genres = movie.find('span', 'genre').findAll('a')\n",
      "    genres = [g.contents[0] for g in genres]\n",
      "    runtime = movie.find('span', 'runtime').contents[0]\n",
      "    rating = movie.find('span', 'value').contents[0]\n",
      "    print title, genres, runtime, rating"
     ],
     "language": "python",
     "metadata": {},
     "outputs": [
      {
       "output_type": "stream",
       "stream": "stdout",
       "text": [
        "The Shawshank Redemption [u'Crime', u'Drama'] 142 mins. 9.3\n",
        "The Dark Knight [u'Action', u'Crime', u'Drama', u'Thriller'] 152 mins. 9.0\n",
        "Inception [u'Action', u'Adventure', u'Mystery', u'Sci-Fi', u'Thriller'] 148 mins. 8.8\n",
        "Pulp Fiction [u'Crime', u'Drama', u'Thriller'] 154 mins. 9.0\n",
        "Fight Club [u'Drama'] 139 mins. 8.9\n",
        "The Lord of the Rings: The Fellowship of the Ring [u'Action', u'Adventure', u'Fantasy'] 178 mins. 8.9\n",
        "The Lord of the Rings: The Return of the King [u'Action', u'Adventure', u'Fantasy'] 201 mins. 8.9\n",
        "The Matrix [u'Action', u'Adventure', u'Sci-Fi'] 136 mins. 8.7\n",
        "The Godfather [u'Crime', u'Drama'] 175 mins. 9.2\n",
        "Forrest Gump [u'Drama', u'Romance'] 142 mins. 8.8\n",
        "The Lord of the Rings: The Two Towers [u'Action', u'Adventure', u'Fantasy'] 179 mins. 8.8\n",
        "The Dark Knight Rises [u'Action', u'Crime', u'Thriller'] 165 mins. 8.6\n",
        "Se7en [u'Crime', u'Mystery', u'Thriller'] 127 mins. 8.7\n",
        "Avatar [u'Action', u'Adventure', u'Fantasy', u'Sci-Fi'] 162 mins. 8.0\n",
        "Batman Begins [u'Action', u'Adventure', u'Crime', u'Drama'] 140 mins. 8.3\n",
        "Gladiator [u'Action', u'Adventure', u'Drama'] 155 mins. 8.5\n",
        "The Avengers"
       ]
      },
      {
       "output_type": "stream",
       "stream": "stdout",
       "text": [
        " [u'Action', u'Fantasy'] 143 mins. 8.2\n",
        "Star Wars [u'Action', u'Adventure', u'Fantasy', u'Sci-Fi'] 121 mins. 8.8\n",
        "Memento [u'Mystery', u'Thriller'] 113 mins. 8.6\n",
        "American Beauty [u'Drama'] 122 mins. 8.5\n"
       ]
      }
     ],
     "prompt_number": 16
    },
    {
     "cell_type": "code",
     "collapsed": false,
     "input": [],
     "language": "python",
     "metadata": {},
     "outputs": []
    }
   ],
   "metadata": {}
  }
 ]
}