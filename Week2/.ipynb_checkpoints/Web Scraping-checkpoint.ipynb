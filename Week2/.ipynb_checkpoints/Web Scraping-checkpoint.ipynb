{
 "metadata": {
  "name": ""
 },
 "nbformat": 3,
 "nbformat_minor": 0,
 "worksheets": [
  {
   "cells": [
    {
     "cell_type": "markdown",
     "metadata": {},
     "source": [
      "A get request is most common type of HTTP. Can see it in the URL (after things like ? or #). Problems: Size limited and in plain text"
     ]
    },
    {
     "cell_type": "markdown",
     "metadata": {},
     "source": [
      "Post request doesnt send in URL, but sends in header of HTTP. Anonymous, but still in plain text; just not as visible"
     ]
    },
    {
     "cell_type": "markdown",
     "metadata": {},
     "source": [
      "HTML is what is used to create content; CSS is what is used to style the content. Defining a class in HTML allows you to call it out in CSS. A div allows you to add another class to sections of text."
     ]
    },
    {
     "cell_type": "markdown",
     "metadata": {},
     "source": [
      "On a page can also have an 'id.' An id is like a class but an element can only have one id and that id can only be used once per page"
     ]
    },
    {
     "cell_type": "markdown",
     "metadata": {},
     "source": [
      "DOM -> the heirarchy of the web page"
     ]
    },
    {
     "cell_type": "code",
     "collapsed": false,
     "input": [],
     "language": "python",
     "metadata": {},
     "outputs": []
    }
   ],
   "metadata": {}
  }
 ]
}