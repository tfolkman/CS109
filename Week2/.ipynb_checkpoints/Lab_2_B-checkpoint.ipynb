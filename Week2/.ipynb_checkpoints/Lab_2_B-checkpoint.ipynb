{
 "metadata": {
  "name": ""
 },
 "nbformat": 3,
 "nbformat_minor": 0,
 "worksheets": [
  {
   "cells": [
    {
     "cell_type": "code",
     "collapsed": false,
     "input": [
      "# Setup\n",
      "from bs4 import BeautifulSoup\n",
      "import pandas as pd\n",
      "import numpy as np\n",
      "import matplotlib.pyplot as plt\n",
      "import requests\n",
      "\n",
      "from cs109style import customize_mpl, customize_css\n",
      "customize_mpl()\n",
      "customize_css()\n",
      "%pylab inline"
     ],
     "language": "python",
     "metadata": {},
     "outputs": [
      {
       "output_type": "stream",
       "stream": "stdout",
       "text": [
        "Setting custom matplotlib visual style\n",
        "Setting custom CSS for the IPython Notebook\n",
        "Populating the interactive namespace from numpy and matplotlib\n"
       ]
      }
     ],
     "prompt_number": 4
    },
    {
     "cell_type": "markdown",
     "metadata": {},
     "source": [
      "## Example 2: extracting reddit titles, upvotes, downvotes, and submission time"
     ]
    },
    {
     "cell_type": "code",
     "collapsed": false,
     "input": [
      "def get_links_from_front_pages(n):\n",
      "    '''\n",
      "    Find urls of comments pages, linked from the n first pages of Reddit\n",
      "    '''\n",
      "    \n",
      "    #Start Page\n",
      "    url = 'http://www.reddit.com/'\n",
      "    comment_pages = []\n",
      "    \n",
      "    print \"Extracting URLs for {0} page(s) of comments from {1}\".format(n,url)\n",
      "    \n",
      "    for page_idx in range(n):\n",
      "        print \"Processing.... {0}\".format(url)\n",
      "        r = requests.get(url)\n",
      "        bs = BeautifulSoup(r.text)\n",
      "        for entry in bs.findAll('a',{\"class\":\"comments\"},href=True):\n",
      "            comment_pages.append(entry['href'])\n",
      "        url = bs.find('a',{\"rel\":\"nofollow next\"},href=True)['href']\n",
      "    \n",
      "    print \"Returned {0} urls\".format(len(set(comment_pages)))\n",
      "    return list(set(comment_pages))"
     ],
     "language": "python",
     "metadata": {},
     "outputs": [],
     "prompt_number": 42
    },
    {
     "cell_type": "code",
     "collapsed": false,
     "input": [
      "links = get_links_from_front_pages(1)"
     ],
     "language": "python",
     "metadata": {},
     "outputs": [
      {
       "output_type": "stream",
       "stream": "stdout",
       "text": [
        "Extracting URLs for 1 page(s) of comments from http://www.reddit.com/\n",
        "Processing.... http://www.reddit.com/\n",
        "Returned 35 urls"
       ]
      },
      {
       "output_type": "stream",
       "stream": "stdout",
       "text": [
        "\n"
       ]
      }
     ],
     "prompt_number": 44
    },
    {
     "cell_type": "code",
     "collapsed": false,
     "input": [
      "results = []\n",
      "for urltext in links:\n",
      "    r = requests.get(urltext)\n",
      "    bs = BeautifulSoup(r.text)\n",
      "    print \"Fetching info for\", urltext"
     ],
     "language": "python",
     "metadata": {},
     "outputs": [
      {
       "output_type": "stream",
       "stream": "stdout",
       "text": [
        "Fetching info for http://www.reddit.com/r/gifs/comments/202b00/skills/\n",
        "Fetching info for"
       ]
      },
      {
       "output_type": "stream",
       "stream": "stdout",
       "text": [
        " http://www.reddit.com/r/news/comments/201zqj/2_teens_kill_classmate_behind_high_school_caught/\n",
        "Fetching info for"
       ]
      },
      {
       "output_type": "stream",
       "stream": "stdout",
       "text": [
        " http://www.reddit.com/r/technology/comments/2012gc/the_bbc_has_released_a_30th_anniversary_edition/\n",
        "Fetching info for"
       ]
      },
      {
       "output_type": "stream",
       "stream": "stdout",
       "text": [
        " http://www.reddit.com/r/Music/comments/201va5/la_dispute_streaming_their_new_album/\n",
        "Fetching info for"
       ]
      },
      {
       "output_type": "stream",
       "stream": "stdout",
       "text": [
        " http://www.reddit.com/r/television/comments/2027u3/8_south_park_facts_that_will_shock_people_who/\n",
        "Fetching info for"
       ]
      },
      {
       "output_type": "stream",
       "stream": "stdout",
       "text": [
        " http://www.reddit.com/r/AdviceAnimals/comments/203a3e/scared_to_ask_at_this_point/\n",
        "Fetching info for"
       ]
      },
      {
       "output_type": "stream",
       "stream": "stdout",
       "text": [
        " http://www.reddit.com/r/EarthPorn/comments/201rdu/tombstone_yukon_canada_1600x977_oc/\n",
        "Fetching info for"
       ]
      },
      {
       "output_type": "stream",
       "stream": "stdout",
       "text": [
        " http://www.reddit.com/r/funny/comments/202wd3/i_participated_in_one_of_the_biggest_magic_the/\n",
        "Fetching info for"
       ]
      },
      {
       "output_type": "stream",
       "stream": "stdout",
       "text": [
        " http://www.reddit.com/r/science/comments/2021lo/study_advertisements_telling_smokers_why_to_quit/\n",
        "Fetching info for"
       ]
      },
      {
       "output_type": "stream",
       "stream": "stdout",
       "text": [
        " http://www.reddit.com/r/sports/comments/2039s5/classy_gesture_by_a_hs_sophomore_just_wow/\n",
        "Fetching info for"
       ]
      },
      {
       "output_type": "stream",
       "stream": "stdout",
       "text": [
        " http://www.reddit.com/r/AskReddit/comments/202d56/if_you_were_trapped_in_an_elevator_with_the/\n",
        "Fetching info for"
       ]
      },
      {
       "output_type": "stream",
       "stream": "stdout",
       "text": [
        " http://www.reddit.com/r/videos/comments/203a7a/after_i_read_the_cameramans_recent_description_of/\n",
        "Fetching info for"
       ]
      },
      {
       "output_type": "stream",
       "stream": "stdout",
       "text": [
        " http://www.reddit.com/r/worldnews/comments/201ofa/an_airliner_enroute_to_hong_kong_has_reported_a/\n",
        "Fetching info for"
       ]
      },
      {
       "output_type": "stream",
       "stream": "stdout",
       "text": [
        " http://www.reddit.com/r/askscience/comments/202jgz/does_any_organism_grow_metal_or_similar/\n",
        "Fetching info for"
       ]
      },
      {
       "output_type": "stream",
       "stream": "stdout",
       "text": [
        " http://www.reddit.com/r/AdviceAnimals/comments/203a3z/fucking_snobs/\n",
        "Fetching info for"
       ]
      },
      {
       "output_type": "stream",
       "stream": "stdout",
       "text": [
        " http://www.reddit.com/r/todayilearned/comments/203ahy/til_maxwell_montes_is_the_only_geological_feature/\n",
        "Fetching info for"
       ]
      },
      {
       "output_type": "stream",
       "stream": "stdout",
       "text": [
        " http://www.reddit.com/r/funny/comments/203ajz/teaching_manners_on_craiglist/\n",
        "Fetching info for"
       ]
      },
      {
       "output_type": "stream",
       "stream": "stdout",
       "text": [
        " http://www.reddit.com/r/videos/comments/2023zr/just_a_reminder_this_is_tomorrow_im_so_excited/\n",
        "Fetching info for"
       ]
      },
      {
       "output_type": "stream",
       "stream": "stdout",
       "text": [
        " http://www.reddit.com/r/pics/comments/2021hf/food_disguised_as_other_food_art/\n",
        "Fetching info for"
       ]
      },
      {
       "output_type": "stream",
       "stream": "stdout",
       "text": [
        " http://www.reddit.com/r/AdviceAnimals/comments/203a6d/do_you_believe_that_the_bieb_was_really_crying/\n",
        "Fetching info for"
       ]
      },
      {
       "output_type": "stream",
       "stream": "stdout",
       "text": [
        " http://www.reddit.com/r/aww/comments/203ahs/im_hot_tired_ill_just_fall_down_here/\n",
        "Fetching info for"
       ]
      },
      {
       "output_type": "stream",
       "stream": "stdout",
       "text": [
        " http://www.reddit.com/r/aww/comments/201wga/my_dogs_expression_before_bath/\n",
        "Fetching info for"
       ]
      },
      {
       "output_type": "stream",
       "stream": "stdout",
       "text": [
        " http://www.reddit.com/r/books/comments/201m4i/get_high_on_scifi_10_short_story_collections_that/\n",
        "Fetching info for"
       ]
      },
      {
       "output_type": "stream",
       "stream": "stdout",
       "text": [
        " http://www.reddit.com/r/movies/comments/201p3m/photos_vivian_daughter_of_stanley_kubrick_posted/\n",
        "Fetching info for"
       ]
      },
      {
       "output_type": "stream",
       "stream": "stdout",
       "text": [
        " http://www.reddit.com/r/sports/comments/2024uk/tiger_woods_opening_drive_yesterday_hits_fan_on/\n",
        "Fetching info for"
       ]
      },
      {
       "output_type": "stream",
       "stream": "stdout",
       "text": [
        " http://www.reddit.com/r/explainlikeimfive/comments/201e2t/eli5_what_exactly_happens_when_i_hold_back_a/\n",
        "Fetching info for"
       ]
      },
      {
       "output_type": "stream",
       "stream": "stdout",
       "text": [
        " http://www.reddit.com/r/todayilearned/comments/201zle/til_that_smelling_coffee_or_coffee_beans_acts_as/\n",
        "Fetching info for"
       ]
      },
      {
       "output_type": "stream",
       "stream": "stdout",
       "text": [
        " http://www.reddit.com/r/IAmA/comments/202b0y/i_am_glenn_howerton_aka_dennis_from_always_sunny/\n",
        "Fetching info for"
       ]
      },
      {
       "output_type": "stream",
       "stream": "stdout",
       "text": [
        " http://www.reddit.com/r/worldnews/comments/201r2d/russian_troops_fire_at_ukraine_military_post/\n",
        "Fetching info for"
       ]
      },
      {
       "output_type": "stream",
       "stream": "stdout",
       "text": [
        " http://www.reddit.com/r/Music/comments/203a1t/the_heirs_where_alternative_rock/\n",
        "Fetching info for"
       ]
      },
      {
       "output_type": "stream",
       "stream": "stdout",
       "text": [
        " http://www.reddit.com/r/bestof/comments/20297j/uvonadler_explains_how_the_finns_beat_back_the/\n",
        "Fetching info for"
       ]
      },
      {
       "output_type": "stream",
       "stream": "stdout",
       "text": [
        " http://www.reddit.com/r/gaming/comments/2023te/never_give_up_never_surrender/\n",
        "Fetching info for"
       ]
      },
      {
       "output_type": "stream",
       "stream": "stdout",
       "text": [
        " http://www.reddit.com/r/AdviceAnimals/comments/203aho/living_in_the_midwest_is_hard_but_the_sun_is/\n",
        "Fetching info for"
       ]
      },
      {
       "output_type": "stream",
       "stream": "stdout",
       "text": [
        " http://www.reddit.com/r/AdviceAnimals/comments/202d9g/my_scumbag_power_company/\n",
        "Fetching info for"
       ]
      },
      {
       "output_type": "stream",
       "stream": "stdout",
       "text": [
        " http://www.reddit.com/r/gaming/comments/20203i/its_dangerous_to_go_alone/\n"
       ]
      }
     ],
     "prompt_number": 46
    },
    {
     "cell_type": "code",
     "collapsed": false,
     "input": [],
     "language": "python",
     "metadata": {},
     "outputs": []
    }
   ],
   "metadata": {}
  }
 ]
}