{
 "metadata": {
  "name": ""
 },
 "nbformat": 3,
 "nbformat_minor": 0,
 "worksheets": [
  {
   "cells": [
    {
     "cell_type": "code",
     "collapsed": false,
     "input": [
      "%matplotlib inline\n",
      "import matplotlib.pyplot as plt\n",
      "import numpy as np"
     ],
     "language": "python",
     "metadata": {},
     "outputs": [],
     "prompt_number": 1
    },
    {
     "cell_type": "heading",
     "level": 3,
     "metadata": {},
     "source": [
      "Simple Graph"
     ]
    },
    {
     "cell_type": "code",
     "collapsed": false,
     "input": [
      "#Create some data\n",
      "\n",
      "x = np.linspace(0,5,10)\n",
      "y = x ** 2\n",
      "\n",
      "#First create reference to figure\n",
      "\n",
      "fig = plt.figure()\n",
      "\n",
      "#Add to figure\n",
      "\n",
      "axes = fig.add_axes([0.1,0.1,0.8,0.8]) #left, bottom, width, height (range 0 to 1)\n",
      "axes.plot(x,y,'r')\n",
      "axes.set_xlabel('x')\n",
      "axes.set_ylabel('y')\n",
      "axes.set_title('title')"
     ],
     "language": "python",
     "metadata": {},
     "outputs": [
      {
       "metadata": {},
       "output_type": "pyout",
       "prompt_number": 2,
       "text": [
        "<matplotlib.text.Text at 0x1064a6d10>"
       ]
      },
      {
       "metadata": {},
       "output_type": "display_data",
       "png": "[encoded data removed]",
       "text": [
        "<matplotlib.figure.Figure at 0x106491e90>"
       ]
      }
     ],
     "prompt_number": 2
    },
    {
     "cell_type": "heading",
     "level": 3,
     "metadata": {},
     "source": [
      "Inset Plots"
     ]
    },
    {
     "cell_type": "code",
     "collapsed": false,
     "input": [
      "#We can easily control everything\n",
      "\n",
      "fig = plt.figure()\n",
      "\n",
      "axes1 = fig.add_axes([0.1, 0.1, 0.8, 0.8])\n",
      "axes2 = fig.add_axes([0.2, 0.5, 0.4, 0.3])\n",
      "\n",
      "axes1.plot(x,y,'r')\n",
      "axes1.set_xlabel('x')\n",
      "axes1.set_ylabel('y')\n",
      "axes1.set_title('title')\n",
      "\n",
      "axes2.plot(y,x,'g')\n",
      "axes2.set_xlabel('y')\n",
      "axes2.set_ylabel('x')\n",
      "axes2.set_title('insert title')"
     ],
     "language": "python",
     "metadata": {},
     "outputs": []
    },
    {
     "cell_type": "heading",
     "level": 3,
     "metadata": {},
     "source": [
      "Multiple Plots"
     ]
    },
    {
     "cell_type": "code",
     "collapsed": false,
     "input": [
      "#If I don't care about explicit plot areas, can use presets\n",
      "\n",
      "fig, axes = plt.subplots(nrows=1,ncols=2)\n",
      "\n",
      "for ax in axes:\n",
      "    ax.plot(x,y,'r')\n",
      "    ax.set_xlabel('x')\n",
      "    ax.set_ylabel('y')\n",
      "    ax.set_title('title')\n",
      "    \n",
      "#Can fix overlapping axes like this\n",
      "\n",
      "fig.tight_layout()"
     ],
     "language": "python",
     "metadata": {},
     "outputs": []
    },
    {
     "cell_type": "heading",
     "level": 3,
     "metadata": {},
     "source": [
      "Figure size, aspect ratio and DPI"
     ]
    },
    {
     "cell_type": "markdown",
     "metadata": {},
     "source": [
      "figsize is a tuple of width and height in inches. dpi is the dots-per-inch (pixels per inch). These are set in the figure statement"
     ]
    },
    {
     "cell_type": "code",
     "collapsed": false,
     "input": [
      "fig = plt.figure(figsize=(8,4),dpi=100)"
     ],
     "language": "python",
     "metadata": {},
     "outputs": []
    },
    {
     "cell_type": "code",
     "collapsed": false,
     "input": [
      "fig, axes = plt.subplots(figsize=(12,3))\n",
      "axes.plot(x,y,'r')\n",
      "axes.set_xlabel('x')\n",
      "axes.set_ylabel('y')\n",
      "axes.set_title('title')"
     ],
     "language": "python",
     "metadata": {},
     "outputs": []
    },
    {
     "cell_type": "heading",
     "level": 3,
     "metadata": {},
     "source": [
      "Saving Figures"
     ]
    },
    {
     "cell_type": "markdown",
     "metadata": {},
     "source": [
      "Matplotlib can generate high-quality output in a number formats, including PNG, JPG, EPS, SVG, and PDF. For scientific papers, use PDF whenever possible. (LaTeX documents compiled with pdflatex can include PDFs using the includegraphics command)."
     ]
    },
    {
     "cell_type": "code",
     "collapsed": false,
     "input": [
      "fig.savefig(\"filename.png\",dpi=200)"
     ],
     "language": "python",
     "metadata": {},
     "outputs": []
    },
    {
     "cell_type": "heading",
     "level": 3,
     "metadata": {},
     "source": [
      "Legends"
     ]
    },
    {
     "cell_type": "code",
     "collapsed": false,
     "input": [
      "ax.legend(loc=0) # let matplotlib decide the optimal location\n",
      "ax.legend(loc=1) # upper right corner\n",
      "ax.legend(loc=2) # upper left corner\n",
      "ax.legend(loc=3) # lower left corner\n",
      "ax.legend(loc=4) # lower right corner\n",
      "# .. many more options are available"
     ],
     "language": "python",
     "metadata": {},
     "outputs": []
    },
    {
     "cell_type": "code",
     "collapsed": false,
     "input": [
      "fig, ax = plt.subplots()\n",
      "\n",
      "ax.plot(x, x**2, label = \"y = x**2\")\n",
      "ax.plot(x, x**3, label = \"y = x**3\")\n",
      "ax.set_xlabel('x')\n",
      "ax.set_ylabel('y')\n",
      "ax.set_title('title')\n",
      "ax.legend(loc=2)"
     ],
     "language": "python",
     "metadata": {},
     "outputs": []
    },
    {
     "cell_type": "heading",
     "level": 3,
     "metadata": {},
     "source": [
      "Formatting Text"
     ]
    },
    {
     "cell_type": "markdown",
     "metadata": {},
     "source": [
      "Matplotlib has great support for LaTeX. All we need to do is to use dollar signs encapsulate LaTeX in any text (legend, title, label, etc.). For example, \"$y=x^3$\".\n",
      "But here we can run into a slightly subtle problem with LaTeX code and Python text strings. In LaTeX, we frequently use the backslash in commands, for example \\alpha to produce the symbol \u03b1. But the backslash already has a meaning in Python strings (the escape code character). To avoid Python messing up our latex code, we need to use \"raw\" text strings. Raw text strings are prepended with an 'r', like r\"\\alpha\" or r'\\alpha' instead of \"\\alpha\" or '\\alpha':"
     ]
    },
    {
     "cell_type": "code",
     "collapsed": false,
     "input": [
      "fig, ax = plt.subplots()\n",
      "\n",
      "ax.plot(x, x**2, label=r\"$y = \\alpha^2$\")\n",
      "ax.plot(x, x**3, label=r\"$y = \\alpha^3$\")\n",
      "ax.set_xlabel(r'$\\alpha$', fontsize=18)\n",
      "ax.set_ylabel(r'$y$', fontsize=18)\n",
      "ax.set_title('title')\n",
      "ax.legend(loc=2); # upper left corner"
     ],
     "language": "python",
     "metadata": {},
     "outputs": []
    },
    {
     "cell_type": "markdown",
     "metadata": {},
     "source": [
      "We can also change the font size and family -  global applies to all text elements"
     ]
    },
    {
     "cell_type": "code",
     "collapsed": false,
     "input": [
      "matplotlib.rcParams.update({'font.size': 12, 'font.family': 'serif'})\n",
      "\n",
      "fig, ax = plt.subplots()\n",
      "\n",
      "ax.plot(x, x**2, label=r\"$y = \\alpha^2$\")\n",
      "ax.plot(x, x**3, label=r\"$y = \\alpha^3$\")\n",
      "ax.set_xlabel(r'$\\alpha$', fontsize=18)\n",
      "ax.set_ylabel(r'$y$', fontsize=18)\n",
      "ax.set_title('title')\n",
      "ax.legend(loc=2); # upper left corner"
     ],
     "language": "python",
     "metadata": {},
     "outputs": []
    },
    {
     "cell_type": "heading",
     "level": 3,
     "metadata": {},
     "source": [
      "Setting colors, linewidths, and linetypes"
     ]
    },
    {
     "cell_type": "markdown",
     "metadata": {},
     "source": [
      "MATLAB Style API supported"
     ]
    },
    {
     "cell_type": "code",
     "collapsed": false,
     "input": [
      "ax.plot(x, x**2, 'b.-') # blue line with dots\n",
      "ax.plot(x, x**3, 'g--') # green dashed line"
     ],
     "language": "python",
     "metadata": {},
     "outputs": []
    },
    {
     "cell_type": "markdown",
     "metadata": {},
     "source": [
      "Can also use color names or RGB hex codes and alpha"
     ]
    },
    {
     "cell_type": "code",
     "collapsed": false,
     "input": [
      "fig, ax = plt.subplots()\n",
      "ax.plot(x, x+1, color=\"red\", alpha=0.5) # half-transparant red\n",
      "ax.plot(x, x+2, color=\"#1155dd\")        # RGB hex code for a bluish color\n",
      "ax.plot(x, x+3, color=\"#15cc55\")        # RGB hex code for a greenish color"
     ],
     "language": "python",
     "metadata": {},
     "outputs": []
    },
    {
     "cell_type": "heading",
     "level": 3,
     "metadata": {},
     "source": [
      "Line and Marker Styles"
     ]
    },
    {
     "cell_type": "code",
     "collapsed": false,
     "input": [
      "fig, ax = plt.subplots(figsize=(12,6))\n",
      "\n",
      "ax.plot(x,x+1,color=\"blue\",linewidth=0.25)\n",
      "ax.plot(x, x+2, color=\"blue\", linewidth=0.50)\n",
      "ax.plot(x, x+3, color=\"blue\", linewidth=1.00)\n",
      "ax.plot(x, x+4, color=\"blue\", linewidth=2.00)\n",
      "\n",
      "# possible linestype options \u2018-\u2018, \u2018\u2013\u2019, \u2018-.\u2019, \u2018:\u2019, \u2018steps\u2019\n",
      "\n",
      "ax.plot(x,x+5,color=\"red\",lw=2,linestyle='-')\n",
      "ax.plot(x, x+6, color=\"red\", lw=2, ls='-.')\n",
      "ax.plot(x, x+7, color=\"red\", lw=2, ls=':')\n",
      "\n",
      "#custom dash\n",
      "\n",
      "line, = ax.plot(x,x+8,color=\"black\",lw=1.5)\n",
      "line.set_dashes([5,10,15,10]) #format: line length, space length, ...\n",
      "\n",
      "# possible marker symbols: marker = '+', 'o', '*', 's', ',', '.', '1', '2', '3', '4', ...\n",
      "\n",
      "ax.plot(x, x+9, color=\"green\", lw=2, ls='*', marker='+')\n",
      "ax.plot(x, x+10, color=\"green\", lw=2, ls='*', marker='o')\n",
      "ax.plot(x, x+11, color=\"green\", lw=2, ls='*', marker='s')\n",
      "ax.plot(x, x+12, color=\"green\", lw=2, ls='*', marker='1')\n",
      "\n",
      "#markersize and color\n",
      "\n",
      "ax.plot(x, x+13, color=\"purple\", lw=1, ls='-', marker='o', markersize=2)\n",
      "ax.plot(x, x+14, color=\"purple\", lw=1, ls='-', marker='o', markersize=4)\n",
      "ax.plot(x, x+15, color=\"purple\", lw=1, ls='-', marker='o', markersize=8, markerfacecolor=\"red\")\n",
      "ax.plot(x, x+16, color=\"purple\", lw=1, ls='-', marker='s', markersize=8, \n",
      "        markerfacecolor=\"yellow\", markeredgewidth=2, markeredgecolor=\"blue\");"
     ],
     "language": "python",
     "metadata": {},
     "outputs": [
      {
       "ename": "NameError",
       "evalue": "name 'x' is not defined",
       "output_type": "pyerr",
       "traceback": [
        "\u001b[0;31m---------------------------------------------------------------------------\u001b[0m\n\u001b[0;31mNameError\u001b[0m                                 Traceback (most recent call last)",
        "\u001b[0;32m<ipython-input-4-527fa604cc6d>\u001b[0m in \u001b[0;36m<module>\u001b[0;34m()\u001b[0m\n\u001b[1;32m      1\u001b[0m \u001b[0mfig\u001b[0m\u001b[0;34m,\u001b[0m \u001b[0max\u001b[0m \u001b[0;34m=\u001b[0m \u001b[0mplt\u001b[0m\u001b[0;34m.\u001b[0m\u001b[0msubplots\u001b[0m\u001b[0;34m(\u001b[0m\u001b[0mfigsize\u001b[0m\u001b[0;34m=\u001b[0m\u001b[0;34m(\u001b[0m\u001b[0;36m12\u001b[0m\u001b[0;34m,\u001b[0m\u001b[0;36m6\u001b[0m\u001b[0;34m)\u001b[0m\u001b[0;34m)\u001b[0m\u001b[0;34m\u001b[0m\u001b[0m\n\u001b[1;32m      2\u001b[0m \u001b[0;34m\u001b[0m\u001b[0m\n\u001b[0;32m----> 3\u001b[0;31m \u001b[0max\u001b[0m\u001b[0;34m.\u001b[0m\u001b[0mplot\u001b[0m\u001b[0;34m(\u001b[0m\u001b[0mx\u001b[0m\u001b[0;34m,\u001b[0m\u001b[0mx\u001b[0m\u001b[0;34m+\u001b[0m\u001b[0;36m1\u001b[0m\u001b[0;34m,\u001b[0m\u001b[0mcolor\u001b[0m\u001b[0;34m=\u001b[0m\u001b[0;34m\"blue\"\u001b[0m\u001b[0;34m,\u001b[0m\u001b[0mlinewidth\u001b[0m\u001b[0;34m=\u001b[0m\u001b[0;36m0.25\u001b[0m\u001b[0;34m)\u001b[0m\u001b[0;34m\u001b[0m\u001b[0m\n\u001b[0m\u001b[1;32m      4\u001b[0m \u001b[0max\u001b[0m\u001b[0;34m.\u001b[0m\u001b[0mplot\u001b[0m\u001b[0;34m(\u001b[0m\u001b[0mx\u001b[0m\u001b[0;34m,\u001b[0m \u001b[0mx\u001b[0m\u001b[0;34m+\u001b[0m\u001b[0;36m2\u001b[0m\u001b[0;34m,\u001b[0m \u001b[0mcolor\u001b[0m\u001b[0;34m=\u001b[0m\u001b[0;34m\"blue\"\u001b[0m\u001b[0;34m,\u001b[0m \u001b[0mlinewidth\u001b[0m\u001b[0;34m=\u001b[0m\u001b[0;36m0.50\u001b[0m\u001b[0;34m)\u001b[0m\u001b[0;34m\u001b[0m\u001b[0m\n\u001b[1;32m      5\u001b[0m \u001b[0max\u001b[0m\u001b[0;34m.\u001b[0m\u001b[0mplot\u001b[0m\u001b[0;34m(\u001b[0m\u001b[0mx\u001b[0m\u001b[0;34m,\u001b[0m \u001b[0mx\u001b[0m\u001b[0;34m+\u001b[0m\u001b[0;36m3\u001b[0m\u001b[0;34m,\u001b[0m \u001b[0mcolor\u001b[0m\u001b[0;34m=\u001b[0m\u001b[0;34m\"blue\"\u001b[0m\u001b[0;34m,\u001b[0m \u001b[0mlinewidth\u001b[0m\u001b[0;34m=\u001b[0m\u001b[0;36m1.00\u001b[0m\u001b[0;34m)\u001b[0m\u001b[0;34m\u001b[0m\u001b[0m\n",
        "\u001b[0;31mNameError\u001b[0m: name 'x' is not defined"
       ]
      },
      {
       "metadata": {},
       "output_type": "display_data",
       "png": "[encoded data removed]",
       "text": [
        "<matplotlib.figure.Figure at 0x108077910>"
       ]
      }
     ],
     "prompt_number": 4
    },
    {
     "cell_type": "heading",
     "level": 3,
     "metadata": {},
     "source": [
      "Controlling Axis Appearance"
     ]
    },
    {
     "cell_type": "code",
     "collapsed": false,
     "input": [
      "fig, axes = plt.subplots(1, 3, figsize=(12, 4))\n",
      "\n",
      "axes[0].plot(x,x**2,x, x**3)\n",
      "axes[0].set_title(\"default axes ranges\")\n",
      "\n",
      "axes[1].plot(x,x**2,x, x**3)\n",
      "axes[1].axis('tight')\n",
      "axes[1].set_title('tight axes')\n",
      "\n",
      "axes[2].plot(x,x**2,x, x**3)\n",
      "axes[2].set_ylim([0,60])\n",
      "axes[2].set_xlim([2,5])\n",
      "axes[2].set_title(\"custom axes range\")"
     ],
     "language": "python",
     "metadata": {},
     "outputs": []
    },
    {
     "cell_type": "markdown",
     "metadata": {},
     "source": [
      "Log Scale"
     ]
    },
    {
     "cell_type": "code",
     "collapsed": false,
     "input": [
      "fig, axes = plt.subplots(1,3,figsize=(10,4))\n",
      "\n",
      "axes[0].plot(x, x**2, x, exp(x))\n",
      "axes[0].set_title(\"Normal Scale\")\n",
      "\n",
      "axes[1].plot(x, x**2, x, exp(x))\n",
      "axes[1].set_yscale('log')\n",
      "axes[1].set_title(\"Logarithmic scale (y)\")\n",
      "\n",
      "axes[2].plot(x, x**2, x, exp(x))\n",
      "axes[2].set_yscale('log')\n",
      "axes[2].set_xscale('log')\n",
      "axes[2].set_title(\"Logarithmic scale (y and x)\")"
     ],
     "language": "python",
     "metadata": {},
     "outputs": []
    },
    {
     "cell_type": "markdown",
     "metadata": {},
     "source": [
      "Placement of Ticks and Tick Labels\n",
      "There are a number of more advanced methods for controlling major and minor tick placement in matplotlib figures, such as automatic placement according to different policies. See http://matplotlib.org/api/ticker_api.html for details."
     ]
    },
    {
     "cell_type": "code",
     "collapsed": false,
     "input": [
      "fig, ax = plt.subplots(figsize=(10,4))\n",
      "\n",
      "ax.plot(x, x**2, x, x**3, lw=1.5)\n",
      "ax.set_xticks([1,2,3,4,5])\n",
      "\n",
      "ax.set_xticklabels([r'$\\alpha$', r'$\\beta$', r'$\\gamma$', r'$\\delta$', r'$\\epsilon$'], fontsize=18)\n",
      "\n",
      "yticks = [0, 50, 100, 150]\n",
      "ax.set_yticks(yticks)\n",
      "ax.set_yticklabels([\"$%.1f$\" % y for y in yticks], fontsize=18); # use LaTeX formatted labels"
     ],
     "language": "python",
     "metadata": {},
     "outputs": [
      {
       "metadata": {},
       "output_type": "pyout",
       "prompt_number": 5,
       "text": [
        "[<matplotlib.text.Text at 0x1071bf450>,\n",
        " <matplotlib.text.Text at 0x1071c9c10>,\n",
        " <matplotlib.text.Text at 0x1071e3250>,\n",
        " <matplotlib.text.Text at 0x1071e3890>]"
       ]
      },
      {
       "metadata": {},
       "output_type": "display_data",
       "png": "[encoded data removed]",
       "text": [
        "<matplotlib.figure.Figure at 0x107194a10>"
       ]
      }
     ],
     "prompt_number": 5
    },
    {
     "cell_type": "heading",
     "level": 3,
     "metadata": {},
     "source": [
      "Axis Grid"
     ]
    },
    {
     "cell_type": "code",
     "collapsed": false,
     "input": [
      "fig, axes = plt.subplots(1, 2, figsize = (10,3))\n",
      "\n",
      "axes[0].plot(x, x**2, x, x**3,lw=2)\n",
      "axes[0].grid(True)\n",
      "\n",
      "#custom grid\n",
      "axes[1].plot(x, x**2, x, x**3, lw=2)\n",
      "axes[1].grid(color='b',alpha=0.5, ls='dashed', lw=0.5)"
     ],
     "language": "python",
     "metadata": {},
     "outputs": [
      {
       "metadata": {},
       "output_type": "display_data",
       "png": "[encoded data removed]",
       "text": [
        "<matplotlib.figure.Figure at 0x1089bfc10>"
       ]
      }
     ],
     "prompt_number": 10
    },
    {
     "cell_type": "heading",
     "level": 3,
     "metadata": {},
     "source": [
      "Axis Spines"
     ]
    },
    {
     "cell_type": "code",
     "collapsed": false,
     "input": [
      "fig, ax = plt.subplots(figsize=(6,2))\n",
      "\n",
      "ax.spines['bottom'].set_color('blue')\n",
      "ax.spines['top'].set_color('blue')\n",
      "ax.spines['left'].set_color('red')\n",
      "ax.spines['right'].set_color('none')\n",
      "#only left tick axes\n",
      "ax.yaxis.tick_left()"
     ],
     "language": "python",
     "metadata": {},
     "outputs": [
      {
       "metadata": {},
       "output_type": "display_data",
       "png": "[encoded data removed]",
       "text": [
        "<matplotlib.figure.Figure at 0x1089b6c50>"
       ]
      }
     ],
     "prompt_number": 13
    },
    {
     "cell_type": "heading",
     "level": 3,
     "metadata": {},
     "source": [
      "Twin Axes"
     ]
    },
    {
     "cell_type": "markdown",
     "metadata": {},
     "source": [
      "Uses twinx and twiny functions"
     ]
    },
    {
     "cell_type": "code",
     "collapsed": false,
     "input": [
      "fig, ax1 = plt.subplots()\n",
      "\n",
      "ax1.plot(x, x**2, lw=2, color='blue')\n",
      "ax1.set_ylabel(r\"area $(m^2)$\", fontsize=18, color=\"blue\")\n",
      "for label in ax1.get_yticklabels():\n",
      "    label.set_color('blue')\n",
      "    \n",
      "ax2 = ax1.twinx()\n",
      "ax2.plot(x, x**3, lw=2, color=\"red\")\n",
      "ax2.set_ylabel(r\"volume $(m^3)$\", fontsize=18, color=\"red\")\n",
      "for label in ax2.get_yticklabels():\n",
      "    label.set_color('red')"
     ],
     "language": "python",
     "metadata": {},
     "outputs": [
      {
       "metadata": {},
       "output_type": "display_data",
       "png": "[encoded data removed]",
       "text": [
        "<matplotlib.figure.Figure at 0x108bf3410>"
       ]
      }
     ],
     "prompt_number": 18
    },
    {
     "cell_type": "heading",
     "level": 3,
     "metadata": {},
     "source": [
      "Axes where x, y are zero"
     ]
    },
    {
     "cell_type": "code",
     "collapsed": false,
     "input": [
      "fig, ax = plt.subplots()\n",
      "\n",
      "ax.spines['right'].set_color('none')\n",
      "ax.spines['top'].set_color('none')\n",
      "\n",
      "ax.xaxis.set_ticks_position('bottom')\n",
      "ax.spines['bottom'].set_position(('data',0)) #set position of x spine to x=0\n",
      "\n",
      "ax.yaxis.set_ticks_position('left')\n",
      "ax.spines['left'].set_position(('data',0)) #set position of y spine to y=0\n",
      "\n",
      "xx = np.linspace(-0.75, 1., 100)\n",
      "ax.plot(xx, xx**3)"
     ],
     "language": "python",
     "metadata": {},
     "outputs": [
      {
       "metadata": {},
       "output_type": "pyout",
       "prompt_number": 32,
       "text": [
        "[<matplotlib.lines.Line2D at 0x1095095d0>]"
       ]
      },
      {
       "metadata": {},
       "output_type": "display_data",
       "png": "[encoded data removed]",
       "text": [
        "<matplotlib.figure.Figure at 0x1075c4e10>"
       ]
      }
     ],
     "prompt_number": 32
    },
    {
     "cell_type": "code",
     "collapsed": false,
     "input": [],
     "language": "python",
     "metadata": {},
     "outputs": []
    }
   ],
   "metadata": {}
  }
 ]
}