{
 "metadata": {
  "name": ""
 },
 "nbformat": 3,
 "nbformat_minor": 0,
 "worksheets": [
  {
   "cells": [
    {
     "cell_type": "code",
     "collapsed": false,
     "input": [
      "#Get data\n",
      "\n",
      "'''\n",
      "import urllib2\n",
      "response = urllib2.urlopen('https://raw.github.com/cs109/content/master/imdb_top_10000.txt')\n",
      "file1 = open('imdb_top_10000.txt','w')\n",
      "file1.write(response.read())\n",
      "file1.close()\n",
      "\n",
      "'''"
     ],
     "language": "python",
     "metadata": {},
     "outputs": [
      {
       "metadata": {},
       "output_type": "pyout",
       "prompt_number": 27,
       "text": [
        "\"\\nimport urllib2\\nresponse = urllib2.urlopen('https://raw.github.com/cs109/content/master/imdb_top_10000.txt')\\nfile1 = open('imdb_top_10000.txt','w')\\nfile1.write(response.read())\\nfile1.close()\\n\\n\""
       ]
      }
     ],
     "prompt_number": 27
    },
    {
     "cell_type": "code",
     "collapsed": false,
     "input": [
      "%matplotlib inline\n",
      "\n",
      "import matplotlib.pyplot as plt\n",
      "import pandas as pd\n",
      "import numpy as np\n",
      "\n",
      "#tell pandas to display wide tables as pretty HTML tables\n",
      "pd.set_option('display.width', 500)\n",
      "pd.set_option('display.max_columns', 100)\n",
      "\n",
      "def remove_border(axes=None, top=False, right=False, left=True, bottom=True):\n",
      "    \"\"\"\n",
      "    Minimize chartjunk by stripping out unnecesasry plot borders and axis ticks\n",
      "    \n",
      "    The top/right/left/bottom keywords toggle whether the corresponding plot border is drawn\n",
      "    \"\"\"\n",
      "    ax = axes or plt.gca()\n",
      "    ax.spines['top'].set_visible(top)\n",
      "    ax.spines['right'].set_visible(right)\n",
      "    ax.spines['left'].set_visible(left)\n",
      "    ax.spines['bottom'].set_visible(bottom)\n",
      "    \n",
      "    #turn off all ticks\n",
      "    ax.yaxis.set_ticks_position('none')\n",
      "    ax.xaxis.set_ticks_position('none')\n",
      "    \n",
      "    #now re-enable visibles\n",
      "    if top:\n",
      "        ax.xaxis.tick_top()\n",
      "    if bottom:\n",
      "        ax.xaxis.tick_bottom()\n",
      "    if left:\n",
      "        ax.yaxis.tick_left()\n",
      "    if right:\n",
      "        ax.yaxis.tick_right()"
     ],
     "language": "python",
     "metadata": {},
     "outputs": [],
     "prompt_number": 28
    },
    {
     "cell_type": "heading",
     "level": 3,
     "metadata": {},
     "source": [
      "Build Data Frame"
     ]
    },
    {
     "cell_type": "code",
     "collapsed": false,
     "input": [
      "names = ['imdbID', 'title', 'year', 'score', 'votes', 'runtime', 'genres']\n",
      "data = pd.read_csv('imdb_top_10000.txt', delimiter='\\t', names=names).dropna()\n",
      "print \"Number of rows: %i\" % data.shape[0]\n",
      "data.head()  # print the first 5 rows"
     ],
     "language": "python",
     "metadata": {},
     "outputs": [
      {
       "output_type": "stream",
       "stream": "stdout",
       "text": [
        "Number of rows: 9999\n"
       ]
      },
      {
       "html": [
        "<div style=\"max-height:1000px;max-width:1500px;overflow:auto;\">\n",
        "<table border=\"1\" class=\"dataframe\">\n",
        "  <thead>\n",
        "    <tr style=\"text-align: right;\">\n",
        "      <th></th>\n",
        "      <th>imdbID</th>\n",
        "      <th>title</th>\n",
        "      <th>year</th>\n",
        "      <th>score</th>\n",
        "      <th>votes</th>\n",
        "      <th>runtime</th>\n",
        "      <th>genres</th>\n",
        "    </tr>\n",
        "  </thead>\n",
        "  <tbody>\n",
        "    <tr>\n",
        "      <th>0</th>\n",
        "      <td> tt0111161</td>\n",
        "      <td> The Shawshank Redemption (1994)</td>\n",
        "      <td> 1994</td>\n",
        "      <td> 9.2</td>\n",
        "      <td> 619479</td>\n",
        "      <td> 142 mins.</td>\n",
        "      <td>                      Crime|Drama</td>\n",
        "    </tr>\n",
        "    <tr>\n",
        "      <th>1</th>\n",
        "      <td> tt0110912</td>\n",
        "      <td>             Pulp Fiction (1994)</td>\n",
        "      <td> 1994</td>\n",
        "      <td> 9.0</td>\n",
        "      <td> 490065</td>\n",
        "      <td> 154 mins.</td>\n",
        "      <td>                   Crime|Thriller</td>\n",
        "    </tr>\n",
        "    <tr>\n",
        "      <th>2</th>\n",
        "      <td> tt0137523</td>\n",
        "      <td>               Fight Club (1999)</td>\n",
        "      <td> 1999</td>\n",
        "      <td> 8.8</td>\n",
        "      <td> 458173</td>\n",
        "      <td> 139 mins.</td>\n",
        "      <td>           Drama|Mystery|Thriller</td>\n",
        "    </tr>\n",
        "    <tr>\n",
        "      <th>3</th>\n",
        "      <td> tt0133093</td>\n",
        "      <td>               The Matrix (1999)</td>\n",
        "      <td> 1999</td>\n",
        "      <td> 8.7</td>\n",
        "      <td> 448114</td>\n",
        "      <td> 136 mins.</td>\n",
        "      <td>          Action|Adventure|Sci-Fi</td>\n",
        "    </tr>\n",
        "    <tr>\n",
        "      <th>4</th>\n",
        "      <td> tt1375666</td>\n",
        "      <td>                Inception (2010)</td>\n",
        "      <td> 2010</td>\n",
        "      <td> 8.9</td>\n",
        "      <td> 385149</td>\n",
        "      <td> 148 mins.</td>\n",
        "      <td> Action|Adventure|Sci-Fi|Thriller</td>\n",
        "    </tr>\n",
        "  </tbody>\n",
        "</table>\n",
        "<p>5 rows \u00d7 7 columns</p>\n",
        "</div>"
       ],
       "metadata": {},
       "output_type": "pyout",
       "prompt_number": 29,
       "text": [
        "      imdbID                            title  year  score   votes    runtime                            genres\n",
        "0  tt0111161  The Shawshank Redemption (1994)  1994    9.2  619479  142 mins.                       Crime|Drama\n",
        "1  tt0110912              Pulp Fiction (1994)  1994    9.0  490065  154 mins.                    Crime|Thriller\n",
        "2  tt0137523                Fight Club (1999)  1999    8.8  458173  139 mins.            Drama|Mystery|Thriller\n",
        "3  tt0133093                The Matrix (1999)  1999    8.7  448114  136 mins.           Action|Adventure|Sci-Fi\n",
        "4  tt1375666                 Inception (2010)  2010    8.9  385149  148 mins.  Action|Adventure|Sci-Fi|Thriller\n",
        "\n",
        "[5 rows x 7 columns]"
       ]
      }
     ],
     "prompt_number": 29
    },
    {
     "cell_type": "markdown",
     "metadata": {},
     "source": [
      "## 2. Clean the DataFrame\n",
      "\n",
      "There are several problems with the DataFrame at this point:\n",
      "\n",
      "1. The runtime column describes a number, but is stored as a string\n",
      "2. The genres column is not atomic -- it aggregates several genres together. This makes it hard, for example, to extract which movies are Comedies.\n",
      "3. The movie year is repeated in the title and year column\n",
      "\n",
      "### Fixing the runtime column"
     ]
    },
    {
     "cell_type": "code",
     "collapsed": false,
     "input": [
      "clean_runtime = [float(r.split(' ')[0]) for r in data.runtime]\n",
      "data['runtime'] = clean_runtime"
     ],
     "language": "python",
     "metadata": {},
     "outputs": [],
     "prompt_number": 30
    },
    {
     "cell_type": "markdown",
     "metadata": {},
     "source": [
      "### Spliting up Genres"
     ]
    },
    {
     "cell_type": "code",
     "collapsed": false,
     "input": [
      "#determine unique genres and then create indicator variables\n",
      "\n",
      "genres = set() #set doesnt allow duplicate elements\n",
      "for m in data.genres:\n",
      "    genres.update(g for g in m.split('|'))\n",
      "genres = sorted(genres)\n",
      "\n",
      "#make an indicator column for each genres\n",
      "for genre in genres:\n",
      "    data[genre] = [genre in movie.split('|') for movie in data.genres]"
     ],
     "language": "python",
     "metadata": {},
     "outputs": [],
     "prompt_number": 31
    },
    {
     "cell_type": "markdown",
     "metadata": {},
     "source": [
      "### Remove Year From Title"
     ]
    },
    {
     "cell_type": "code",
     "collapsed": false,
     "input": [
      "data['title'] = [t[0:-7] for t in data.title]"
     ],
     "language": "python",
     "metadata": {},
     "outputs": [],
     "prompt_number": 32
    },
    {
     "cell_type": "markdown",
     "metadata": {},
     "source": [
      "## Explore Global Properties"
     ]
    },
    {
     "cell_type": "code",
     "collapsed": false,
     "input": [
      "data[['score', 'runtime', 'year', 'votes']].describe()"
     ],
     "language": "python",
     "metadata": {},
     "outputs": [
      {
       "html": [
        "<div style=\"max-height:1000px;max-width:1500px;overflow:auto;\">\n",
        "<table border=\"1\" class=\"dataframe\">\n",
        "  <thead>\n",
        "    <tr style=\"text-align: right;\">\n",
        "      <th></th>\n",
        "      <th>score</th>\n",
        "      <th>runtime</th>\n",
        "      <th>year</th>\n",
        "      <th>votes</th>\n",
        "    </tr>\n",
        "  </thead>\n",
        "  <tbody>\n",
        "    <tr>\n",
        "      <th>count</th>\n",
        "      <td> 9999.000000</td>\n",
        "      <td> 9999.000000</td>\n",
        "      <td> 9999.000000</td>\n",
        "      <td>   9999.000000</td>\n",
        "    </tr>\n",
        "    <tr>\n",
        "      <th>mean</th>\n",
        "      <td>    6.385989</td>\n",
        "      <td>  103.580358</td>\n",
        "      <td> 1993.471447</td>\n",
        "      <td>  16605.462946</td>\n",
        "    </tr>\n",
        "    <tr>\n",
        "      <th>std</th>\n",
        "      <td>    1.189965</td>\n",
        "      <td>   26.629310</td>\n",
        "      <td>   14.830049</td>\n",
        "      <td>  34564.883945</td>\n",
        "    </tr>\n",
        "    <tr>\n",
        "      <th>min</th>\n",
        "      <td>    1.500000</td>\n",
        "      <td>    0.000000</td>\n",
        "      <td> 1950.000000</td>\n",
        "      <td>   1356.000000</td>\n",
        "    </tr>\n",
        "    <tr>\n",
        "      <th>25%</th>\n",
        "      <td>    5.700000</td>\n",
        "      <td>   93.000000</td>\n",
        "      <td> 1986.000000</td>\n",
        "      <td>   2334.500000</td>\n",
        "    </tr>\n",
        "    <tr>\n",
        "      <th>50%</th>\n",
        "      <td>    6.600000</td>\n",
        "      <td>  102.000000</td>\n",
        "      <td> 1998.000000</td>\n",
        "      <td>   4981.000000</td>\n",
        "    </tr>\n",
        "    <tr>\n",
        "      <th>75%</th>\n",
        "      <td>    7.200000</td>\n",
        "      <td>  115.000000</td>\n",
        "      <td> 2005.000000</td>\n",
        "      <td>  15278.500000</td>\n",
        "    </tr>\n",
        "    <tr>\n",
        "      <th>max</th>\n",
        "      <td>    9.200000</td>\n",
        "      <td>  450.000000</td>\n",
        "      <td> 2011.000000</td>\n",
        "      <td> 619479.000000</td>\n",
        "    </tr>\n",
        "  </tbody>\n",
        "</table>\n",
        "<p>8 rows \u00d7 4 columns</p>\n",
        "</div>"
       ],
       "metadata": {},
       "output_type": "pyout",
       "prompt_number": 34,
       "text": [
        "             score      runtime         year          votes\n",
        "count  9999.000000  9999.000000  9999.000000    9999.000000\n",
        "mean      6.385989   103.580358  1993.471447   16605.462946\n",
        "std       1.189965    26.629310    14.830049   34564.883945\n",
        "min       1.500000     0.000000  1950.000000    1356.000000\n",
        "25%       5.700000    93.000000  1986.000000    2334.500000\n",
        "50%       6.600000   102.000000  1998.000000    4981.000000\n",
        "75%       7.200000   115.000000  2005.000000   15278.500000\n",
        "max       9.200000   450.000000  2011.000000  619479.000000\n",
        "\n",
        "[8 rows x 4 columns]"
       ]
      }
     ],
     "prompt_number": 34
    },
    {
     "cell_type": "markdown",
     "metadata": {},
     "source": [
      "### Runtime of zero looks wierd; lets look at that"
     ]
    },
    {
     "cell_type": "code",
     "collapsed": false,
     "input": [
      "#How many?\n",
      "\n",
      "print len(data[data.runtime == 0])"
     ],
     "language": "python",
     "metadata": {},
     "outputs": [
      {
       "output_type": "stream",
       "stream": "stdout",
       "text": [
        "282\n"
       ]
      }
     ],
     "prompt_number": 35
    },
    {
     "cell_type": "code",
     "collapsed": false,
     "input": [
      "#probably best to flag as na\n",
      "data.runtime[data.runtime == 0] = np.nan"
     ],
     "language": "python",
     "metadata": {},
     "outputs": [],
     "prompt_number": 36
    },
    {
     "cell_type": "code",
     "collapsed": false,
     "input": [
      "#take a look now\n",
      "data.runtime.describe()"
     ],
     "language": "python",
     "metadata": {},
     "outputs": [
      {
       "metadata": {},
       "output_type": "pyout",
       "prompt_number": 37,
       "text": [
        "count    9717.000000\n",
        "mean      106.586395\n",
        "std        20.230330\n",
        "min        45.000000\n",
        "25%        93.000000\n",
        "50%       103.000000\n",
        "75%       115.000000\n",
        "max       450.000000\n",
        "Name: runtime, dtype: float64"
       ]
      }
     ],
     "prompt_number": 37
    },
    {
     "cell_type": "markdown",
     "metadata": {},
     "source": [
      "###Make some Plots"
     ]
    },
    {
     "cell_type": "code",
     "collapsed": false,
     "input": [
      "#look at number of movies by year\n",
      "plt.hist(data.year, bins=np.arange(1950, 2013), color='#cccccc')\n",
      "plt.xlabel('Release Year')\n",
      "remove_border()"
     ],
     "language": "python",
     "metadata": {},
     "outputs": [
      {
       "metadata": {},
       "output_type": "display_data",
       "png": "[encoded data removed]",
       "text": [
        "<matplotlib.figure.Figure at 0x10bd40750>"
       ]
      }
     ],
     "prompt_number": 45
    },
    {
     "cell_type": "code",
     "collapsed": false,
     "input": [
      "#rating distribution\n",
      "plt.hist(data.score, bins=20, color='#cccccc')\n",
      "plt.xlabel('Score')\n",
      "remove_border()"
     ],
     "language": "python",
     "metadata": {},
     "outputs": [
      {
       "metadata": {},
       "output_type": "display_data",
       "png": "[encoded data removed]",
       "text": [
        "<matplotlib.figure.Figure at 0x10b83c6d0>"
       ]
      }
     ],
     "prompt_number": 46
    },
    {
     "cell_type": "code",
     "collapsed": false,
     "input": [
      "#runtime dist\n",
      "plt.hist(data.runtime.dropna(), bins=50, color='#cccccc')\n",
      "plt.xlabel('Runtime')\n",
      "remove_border()"
     ],
     "language": "python",
     "metadata": {},
     "outputs": [
      {
       "metadata": {},
       "output_type": "display_data",
       "png": "[encoded data removed]",
       "text": [
        "<matplotlib.figure.Figure at 0x10bd3f750>"
       ]
      }
     ],
     "prompt_number": 48
    },
    {
     "cell_type": "code",
     "collapsed": false,
     "input": [
      "#scatter plot of year * rating\n",
      "plt.scatter(data.year, data.score, color='k', alpha=0.08, lw=0)\n",
      "plt.xlabel('Year')\n",
      "plt.ylabel('Score')\n",
      "remove_border()"
     ],
     "language": "python",
     "metadata": {},
     "outputs": [
      {
       "metadata": {},
       "output_type": "display_data",
       "png": "[encoded data removed]",
       "text": [
        "<matplotlib.figure.Figure at 0x10c4daf50>"
       ]
      }
     ],
     "prompt_number": 52
    },
    {
     "cell_type": "code",
     "collapsed": false,
     "input": [
      "#score by number of votes\n",
      "plt.scatter(data.votes, data.score, lw=0, alpha=.2, color=\"k\")\n",
      "#do log of x-axis because definitly exponential\n",
      "plt.xscale('log')\n",
      "plt.xlabel('Votes')\n",
      "plt.ylabel('Score')\n",
      "remove_border()"
     ],
     "language": "python",
     "metadata": {},
     "outputs": [
      {
       "metadata": {},
       "output_type": "display_data",
       "png": "[encoded data removed]",
       "text": [
        "<matplotlib.figure.Figure at 0x10c47dd50>"
       ]
      }
     ],
     "prompt_number": 55
    },
    {
     "cell_type": "markdown",
     "metadata": {},
     "source": [
      "###Identify Outliers"
     ]
    },
    {
     "cell_type": "code",
     "collapsed": false,
     "input": [
      "data[(data.votes > 9e4) & (data.score <5)][['title', 'year', 'score', 'votes', 'genres']]"
     ],
     "language": "python",
     "metadata": {},
     "outputs": [
      {
       "html": [
        "<div style=\"max-height:1000px;max-width:1500px;overflow:auto;\">\n",
        "<table border=\"1\" class=\"dataframe\">\n",
        "  <thead>\n",
        "    <tr style=\"text-align: right;\">\n",
        "      <th></th>\n",
        "      <th>title</th>\n",
        "      <th>year</th>\n",
        "      <th>score</th>\n",
        "      <th>votes</th>\n",
        "      <th>genres</th>\n",
        "    </tr>\n",
        "  </thead>\n",
        "  <tbody>\n",
        "    <tr>\n",
        "      <th>317</th>\n",
        "      <td>       New Moon</td>\n",
        "      <td> 2009</td>\n",
        "      <td> 4.5</td>\n",
        "      <td> 90457</td>\n",
        "      <td> Adventure|Drama|Fantasy|Romance</td>\n",
        "    </tr>\n",
        "    <tr>\n",
        "      <th>334</th>\n",
        "      <td> Batman &amp; Robin</td>\n",
        "      <td> 1997</td>\n",
        "      <td> 3.5</td>\n",
        "      <td> 91875</td>\n",
        "      <td>     Action|Crime|Fantasy|Sci-Fi</td>\n",
        "    </tr>\n",
        "  </tbody>\n",
        "</table>\n",
        "<p>2 rows \u00d7 5 columns</p>\n",
        "</div>"
       ],
       "metadata": {},
       "output_type": "pyout",
       "prompt_number": 57,
       "text": [
        "              title  year  score  votes                           genres\n",
        "317        New Moon  2009    4.5  90457  Adventure|Drama|Fantasy|Romance\n",
        "334  Batman & Robin  1997    3.5  91875      Action|Crime|Fantasy|Sci-Fi\n",
        "\n",
        "[2 rows x 5 columns]"
       ]
      }
     ],
     "prompt_number": 57
    },
    {
     "cell_type": "code",
     "collapsed": false,
     "input": [
      "#lowest rated movies\n",
      "data[data.score == data.score.min()]"
     ],
     "language": "python",
     "metadata": {},
     "outputs": [
      {
       "html": [
        "<div style=\"max-height:1000px;max-width:1500px;overflow:auto;\">\n",
        "<table border=\"1\" class=\"dataframe\">\n",
        "  <thead>\n",
        "    <tr style=\"text-align: right;\">\n",
        "      <th></th>\n",
        "      <th>imdbID</th>\n",
        "      <th>title</th>\n",
        "      <th>year</th>\n",
        "      <th>score</th>\n",
        "      <th>votes</th>\n",
        "      <th>runtime</th>\n",
        "      <th>genres</th>\n",
        "      <th>Action</th>\n",
        "      <th>Adult</th>\n",
        "      <th>Adventure</th>\n",
        "      <th>Animation</th>\n",
        "      <th>Biography</th>\n",
        "      <th>Comedy</th>\n",
        "      <th>Crime</th>\n",
        "      <th>Drama</th>\n",
        "      <th>Family</th>\n",
        "      <th>Fantasy</th>\n",
        "      <th>Film-Noir</th>\n",
        "      <th>History</th>\n",
        "      <th>Horror</th>\n",
        "      <th>Music</th>\n",
        "      <th>Musical</th>\n",
        "      <th>Mystery</th>\n",
        "      <th>News</th>\n",
        "      <th>Reality-TV</th>\n",
        "      <th>Romance</th>\n",
        "      <th>Sci-Fi</th>\n",
        "      <th>Sport</th>\n",
        "      <th>Thriller</th>\n",
        "      <th>War</th>\n",
        "      <th>Western</th>\n",
        "    </tr>\n",
        "  </thead>\n",
        "  <tbody>\n",
        "    <tr>\n",
        "      <th>1982</th>\n",
        "      <td> tt0060666</td>\n",
        "      <td>     Manos: The Hands of Fate</td>\n",
        "      <td> 1966</td>\n",
        "      <td> 1.5</td>\n",
        "      <td> 20927</td>\n",
        "      <td> 74</td>\n",
        "      <td>                             Horror</td>\n",
        "      <td> False</td>\n",
        "      <td> False</td>\n",
        "      <td> False</td>\n",
        "      <td> False</td>\n",
        "      <td> False</td>\n",
        "      <td> False</td>\n",
        "      <td> False</td>\n",
        "      <td> False</td>\n",
        "      <td> False</td>\n",
        "      <td> False</td>\n",
        "      <td> False</td>\n",
        "      <td> False</td>\n",
        "      <td>  True</td>\n",
        "      <td> False</td>\n",
        "      <td> False</td>\n",
        "      <td> False</td>\n",
        "      <td> False</td>\n",
        "      <td> False</td>\n",
        "      <td> False</td>\n",
        "      <td> False</td>\n",
        "      <td> False</td>\n",
        "      <td> False</td>\n",
        "      <td> False</td>\n",
        "      <td> False</td>\n",
        "    </tr>\n",
        "    <tr>\n",
        "      <th>2793</th>\n",
        "      <td> tt0270846</td>\n",
        "      <td> Superbabies: Baby Geniuses 2</td>\n",
        "      <td> 2004</td>\n",
        "      <td> 1.5</td>\n",
        "      <td> 13196</td>\n",
        "      <td> 88</td>\n",
        "      <td>                      Comedy|Family</td>\n",
        "      <td> False</td>\n",
        "      <td> False</td>\n",
        "      <td> False</td>\n",
        "      <td> False</td>\n",
        "      <td> False</td>\n",
        "      <td>  True</td>\n",
        "      <td> False</td>\n",
        "      <td> False</td>\n",
        "      <td>  True</td>\n",
        "      <td> False</td>\n",
        "      <td> False</td>\n",
        "      <td> False</td>\n",
        "      <td> False</td>\n",
        "      <td> False</td>\n",
        "      <td> False</td>\n",
        "      <td> False</td>\n",
        "      <td> False</td>\n",
        "      <td> False</td>\n",
        "      <td> False</td>\n",
        "      <td> False</td>\n",
        "      <td> False</td>\n",
        "      <td> False</td>\n",
        "      <td> False</td>\n",
        "      <td> False</td>\n",
        "    </tr>\n",
        "    <tr>\n",
        "      <th>3746</th>\n",
        "      <td> tt0421051</td>\n",
        "      <td>            Daniel the Wizard</td>\n",
        "      <td> 2004</td>\n",
        "      <td> 1.5</td>\n",
        "      <td>  8271</td>\n",
        "      <td> 81</td>\n",
        "      <td> Comedy|Crime|Family|Fantasy|Horror</td>\n",
        "      <td> False</td>\n",
        "      <td> False</td>\n",
        "      <td> False</td>\n",
        "      <td> False</td>\n",
        "      <td> False</td>\n",
        "      <td>  True</td>\n",
        "      <td>  True</td>\n",
        "      <td> False</td>\n",
        "      <td>  True</td>\n",
        "      <td>  True</td>\n",
        "      <td> False</td>\n",
        "      <td> False</td>\n",
        "      <td>  True</td>\n",
        "      <td> False</td>\n",
        "      <td> False</td>\n",
        "      <td> False</td>\n",
        "      <td> False</td>\n",
        "      <td> False</td>\n",
        "      <td> False</td>\n",
        "      <td> False</td>\n",
        "      <td> False</td>\n",
        "      <td> False</td>\n",
        "      <td> False</td>\n",
        "      <td> False</td>\n",
        "    </tr>\n",
        "    <tr>\n",
        "      <th>5158</th>\n",
        "      <td> tt0364986</td>\n",
        "      <td>                 Ben &amp; Arthur</td>\n",
        "      <td> 2002</td>\n",
        "      <td> 1.5</td>\n",
        "      <td>  4675</td>\n",
        "      <td> 85</td>\n",
        "      <td>                      Drama|Romance</td>\n",
        "      <td> False</td>\n",
        "      <td> False</td>\n",
        "      <td> False</td>\n",
        "      <td> False</td>\n",
        "      <td> False</td>\n",
        "      <td> False</td>\n",
        "      <td> False</td>\n",
        "      <td>  True</td>\n",
        "      <td> False</td>\n",
        "      <td> False</td>\n",
        "      <td> False</td>\n",
        "      <td> False</td>\n",
        "      <td> False</td>\n",
        "      <td> False</td>\n",
        "      <td> False</td>\n",
        "      <td> False</td>\n",
        "      <td> False</td>\n",
        "      <td> False</td>\n",
        "      <td>  True</td>\n",
        "      <td> False</td>\n",
        "      <td> False</td>\n",
        "      <td> False</td>\n",
        "      <td> False</td>\n",
        "      <td> False</td>\n",
        "    </tr>\n",
        "    <tr>\n",
        "      <th>5993</th>\n",
        "      <td> tt0060753</td>\n",
        "      <td>    Night Train to Mundo Fine</td>\n",
        "      <td> 1966</td>\n",
        "      <td> 1.5</td>\n",
        "      <td>  3542</td>\n",
        "      <td> 89</td>\n",
        "      <td>         Action|Adventure|Crime|War</td>\n",
        "      <td>  True</td>\n",
        "      <td> False</td>\n",
        "      <td>  True</td>\n",
        "      <td> False</td>\n",
        "      <td> False</td>\n",
        "      <td> False</td>\n",
        "      <td>  True</td>\n",
        "      <td> False</td>\n",
        "      <td> False</td>\n",
        "      <td> False</td>\n",
        "      <td> False</td>\n",
        "      <td> False</td>\n",
        "      <td> False</td>\n",
        "      <td> False</td>\n",
        "      <td> False</td>\n",
        "      <td> False</td>\n",
        "      <td> False</td>\n",
        "      <td> False</td>\n",
        "      <td> False</td>\n",
        "      <td> False</td>\n",
        "      <td> False</td>\n",
        "      <td> False</td>\n",
        "      <td>  True</td>\n",
        "      <td> False</td>\n",
        "    </tr>\n",
        "    <tr>\n",
        "      <th>6257</th>\n",
        "      <td> tt0059464</td>\n",
        "      <td>              Monster a-Go Go</td>\n",
        "      <td> 1965</td>\n",
        "      <td> 1.5</td>\n",
        "      <td>  3255</td>\n",
        "      <td> 70</td>\n",
        "      <td>                      Sci-Fi|Horror</td>\n",
        "      <td> False</td>\n",
        "      <td> False</td>\n",
        "      <td> False</td>\n",
        "      <td> False</td>\n",
        "      <td> False</td>\n",
        "      <td> False</td>\n",
        "      <td> False</td>\n",
        "      <td> False</td>\n",
        "      <td> False</td>\n",
        "      <td> False</td>\n",
        "      <td> False</td>\n",
        "      <td> False</td>\n",
        "      <td>  True</td>\n",
        "      <td> False</td>\n",
        "      <td> False</td>\n",
        "      <td> False</td>\n",
        "      <td> False</td>\n",
        "      <td> False</td>\n",
        "      <td> False</td>\n",
        "      <td>  True</td>\n",
        "      <td> False</td>\n",
        "      <td> False</td>\n",
        "      <td> False</td>\n",
        "      <td> False</td>\n",
        "    </tr>\n",
        "    <tr>\n",
        "      <th>6726</th>\n",
        "      <td> tt1309000</td>\n",
        "      <td>                   Dream Well</td>\n",
        "      <td> 2009</td>\n",
        "      <td> 1.5</td>\n",
        "      <td>  2848</td>\n",
        "      <td>NaN</td>\n",
        "      <td>               Comedy|Romance|Sport</td>\n",
        "      <td> False</td>\n",
        "      <td> False</td>\n",
        "      <td> False</td>\n",
        "      <td> False</td>\n",
        "      <td> False</td>\n",
        "      <td>  True</td>\n",
        "      <td> False</td>\n",
        "      <td> False</td>\n",
        "      <td> False</td>\n",
        "      <td> False</td>\n",
        "      <td> False</td>\n",
        "      <td> False</td>\n",
        "      <td> False</td>\n",
        "      <td> False</td>\n",
        "      <td> False</td>\n",
        "      <td> False</td>\n",
        "      <td> False</td>\n",
        "      <td> False</td>\n",
        "      <td>  True</td>\n",
        "      <td> False</td>\n",
        "      <td>  True</td>\n",
        "      <td> False</td>\n",
        "      <td> False</td>\n",
        "      <td> False</td>\n",
        "    </tr>\n",
        "  </tbody>\n",
        "</table>\n",
        "<p>7 rows \u00d7 31 columns</p>\n",
        "</div>"
       ],
       "metadata": {},
       "output_type": "pyout",
       "prompt_number": 61,
       "text": [
        "         imdbID                         title  year  score  votes  runtime                              genres Action  Adult Adventure Animation Biography Comedy  Crime  Drama Family Fantasy Film-Noir History Horror  Music Musical Mystery   News Reality-TV Romance Sci-Fi  Sport Thriller    War Western\n",
        "1982  tt0060666      Manos: The Hands of Fate  1966    1.5  20927       74                              Horror  False  False     False     False     False  False  False  False  False   False     False   False   True  False   False   False  False      False   False  False  False    False  False   False\n",
        "2793  tt0270846  Superbabies: Baby Geniuses 2  2004    1.5  13196       88                       Comedy|Family  False  False     False     False     False   True  False  False   True   False     False   False  False  False   False   False  False      False   False  False  False    False  False   False\n",
        "3746  tt0421051             Daniel the Wizard  2004    1.5   8271       81  Comedy|Crime|Family|Fantasy|Horror  False  False     False     False     False   True   True  False   True    True     False   False   True  False   False   False  False      False   False  False  False    False  False   False\n",
        "5158  tt0364986                  Ben & Arthur  2002    1.5   4675       85                       Drama|Romance  False  False     False     False     False  False  False   True  False   False     False   False  False  False   False   False  False      False    True  False  False    False  False   False\n",
        "5993  tt0060753     Night Train to Mundo Fine  1966    1.5   3542       89          Action|Adventure|Crime|War   True  False      True     False     False  False   True  False  False   False     False   False  False  False   False   False  False      False   False  False  False    False   True   False\n",
        "6257  tt0059464               Monster a-Go Go  1965    1.5   3255       70                       Sci-Fi|Horror  False  False     False     False     False  False  False  False  False   False     False   False   True  False   False   False  False      False   False   True  False    False  False   False\n",
        "6726  tt1309000                    Dream Well  2009    1.5   2848      NaN                Comedy|Romance|Sport  False  False     False     False     False   True  False  False  False   False     False   False  False  False   False   False  False      False    True  False   True    False  False   False\n",
        "\n",
        "[7 rows x 31 columns]"
       ]
      }
     ],
     "prompt_number": 61
    },
    {
     "cell_type": "code",
     "collapsed": false,
     "input": [
      "#highest rated\n",
      "data[data.score == data.score.max()]"
     ],
     "language": "python",
     "metadata": {},
     "outputs": [
      {
       "html": [
        "<div style=\"max-height:1000px;max-width:1500px;overflow:auto;\">\n",
        "<table border=\"1\" class=\"dataframe\">\n",
        "  <thead>\n",
        "    <tr style=\"text-align: right;\">\n",
        "      <th></th>\n",
        "      <th>imdbID</th>\n",
        "      <th>title</th>\n",
        "      <th>year</th>\n",
        "      <th>score</th>\n",
        "      <th>votes</th>\n",
        "      <th>runtime</th>\n",
        "      <th>genres</th>\n",
        "      <th>Action</th>\n",
        "      <th>Adult</th>\n",
        "      <th>Adventure</th>\n",
        "      <th>Animation</th>\n",
        "      <th>Biography</th>\n",
        "      <th>Comedy</th>\n",
        "      <th>Crime</th>\n",
        "      <th>Drama</th>\n",
        "      <th>Family</th>\n",
        "      <th>Fantasy</th>\n",
        "      <th>Film-Noir</th>\n",
        "      <th>History</th>\n",
        "      <th>Horror</th>\n",
        "      <th>Music</th>\n",
        "      <th>Musical</th>\n",
        "      <th>Mystery</th>\n",
        "      <th>News</th>\n",
        "      <th>Reality-TV</th>\n",
        "      <th>Romance</th>\n",
        "      <th>Sci-Fi</th>\n",
        "      <th>Sport</th>\n",
        "      <th>Thriller</th>\n",
        "      <th>War</th>\n",
        "      <th>Western</th>\n",
        "    </tr>\n",
        "  </thead>\n",
        "  <tbody>\n",
        "    <tr>\n",
        "      <th>0 </th>\n",
        "      <td> tt0111161</td>\n",
        "      <td> The Shawshank Redemption</td>\n",
        "      <td> 1994</td>\n",
        "      <td> 9.2</td>\n",
        "      <td> 619479</td>\n",
        "      <td> 142</td>\n",
        "      <td> Crime|Drama</td>\n",
        "      <td> False</td>\n",
        "      <td> False</td>\n",
        "      <td> False</td>\n",
        "      <td> False</td>\n",
        "      <td> False</td>\n",
        "      <td> False</td>\n",
        "      <td> True</td>\n",
        "      <td> True</td>\n",
        "      <td> False</td>\n",
        "      <td> False</td>\n",
        "      <td> False</td>\n",
        "      <td> False</td>\n",
        "      <td> False</td>\n",
        "      <td> False</td>\n",
        "      <td> False</td>\n",
        "      <td> False</td>\n",
        "      <td> False</td>\n",
        "      <td> False</td>\n",
        "      <td> False</td>\n",
        "      <td> False</td>\n",
        "      <td> False</td>\n",
        "      <td> False</td>\n",
        "      <td> False</td>\n",
        "      <td> False</td>\n",
        "    </tr>\n",
        "    <tr>\n",
        "      <th>26</th>\n",
        "      <td> tt0068646</td>\n",
        "      <td>            The Godfather</td>\n",
        "      <td> 1972</td>\n",
        "      <td> 9.2</td>\n",
        "      <td> 474189</td>\n",
        "      <td> 175</td>\n",
        "      <td> Crime|Drama</td>\n",
        "      <td> False</td>\n",
        "      <td> False</td>\n",
        "      <td> False</td>\n",
        "      <td> False</td>\n",
        "      <td> False</td>\n",
        "      <td> False</td>\n",
        "      <td> True</td>\n",
        "      <td> True</td>\n",
        "      <td> False</td>\n",
        "      <td> False</td>\n",
        "      <td> False</td>\n",
        "      <td> False</td>\n",
        "      <td> False</td>\n",
        "      <td> False</td>\n",
        "      <td> False</td>\n",
        "      <td> False</td>\n",
        "      <td> False</td>\n",
        "      <td> False</td>\n",
        "      <td> False</td>\n",
        "      <td> False</td>\n",
        "      <td> False</td>\n",
        "      <td> False</td>\n",
        "      <td> False</td>\n",
        "      <td> False</td>\n",
        "    </tr>\n",
        "  </tbody>\n",
        "</table>\n",
        "<p>2 rows \u00d7 31 columns</p>\n",
        "</div>"
       ],
       "metadata": {},
       "output_type": "pyout",
       "prompt_number": 62,
       "text": [
        "       imdbID                     title  year  score   votes  runtime       genres Action  Adult Adventure Animation Biography Comedy Crime Drama Family Fantasy Film-Noir History Horror  Music Musical Mystery   News Reality-TV Romance Sci-Fi  Sport Thriller    War Western\n",
        "0   tt0111161  The Shawshank Redemption  1994    9.2  619479      142  Crime|Drama  False  False     False     False     False  False  True  True  False   False     False   False  False  False   False   False  False      False   False  False  False    False  False   False\n",
        "26  tt0068646             The Godfather  1972    9.2  474189      175  Crime|Drama  False  False     False     False     False  False  True  True  False   False     False   False  False  False   False   False  False      False   False  False  False    False  False   False\n",
        "\n",
        "[2 rows x 31 columns]"
       ]
      }
     ],
     "prompt_number": 62
    },
    {
     "cell_type": "markdown",
     "metadata": {},
     "source": [
      "###Run some aggregaton functions"
     ]
    },
    {
     "cell_type": "code",
     "collapsed": false,
     "input": [
      "#which genres are most freqent\n",
      "genre_count = data[genres].sum()\n",
      "genre_count.sort(ascending=False)\n",
      "genre_count"
     ],
     "language": "python",
     "metadata": {},
     "outputs": [
      {
       "metadata": {},
       "output_type": "pyout",
       "prompt_number": 79,
       "text": [
        "Drama         5697\n",
        "Comedy        3922\n",
        "Thriller      2832\n",
        "Romance       2441\n",
        "Action        1891\n",
        "Crime         1867\n",
        "Adventure     1313\n",
        "Horror        1215\n",
        "Mystery       1009\n",
        "Fantasy        916\n",
        "Sci-Fi         897\n",
        "Family         754\n",
        "War            512\n",
        "Biography      394\n",
        "Music          371\n",
        "History        358\n",
        "Animation      314\n",
        "Sport          288\n",
        "Musical        260\n",
        "Western        235\n",
        "Film-Noir       40\n",
        "Adult            9\n",
        "News             1\n",
        "Reality-TV       1\n",
        "dtype: int64"
       ]
      }
     ],
     "prompt_number": 79
    },
    {
     "cell_type": "code",
     "collapsed": false,
     "input": [
      "#Number of genres per movie on avg?\n",
      "genre_count = data[genres].sum(axis=1)\n",
      "print \"Averge movie has {0:.2f} genres\".format(genre_count.mean())\n",
      "genre_count.describe()"
     ],
     "language": "python",
     "metadata": {},
     "outputs": [
      {
       "output_type": "stream",
       "stream": "stdout",
       "text": [
        "Averge movie has 2.75 genres\n"
       ]
      },
      {
       "metadata": {},
       "output_type": "pyout",
       "prompt_number": 82,
       "text": [
        "count    9999.000000\n",
        "mean        2.753975\n",
        "std         1.168910\n",
        "min         1.000000\n",
        "25%         2.000000\n",
        "50%         3.000000\n",
        "75%         3.000000\n",
        "max         8.000000\n",
        "dtype: float64"
       ]
      }
     ],
     "prompt_number": 82
    },
    {
     "cell_type": "markdown",
     "metadata": {},
     "source": [
      "##Global Properties"
     ]
    },
    {
     "cell_type": "code",
     "collapsed": false,
     "input": [],
     "language": "python",
     "metadata": {},
     "outputs": []
    }
   ],
   "metadata": {}
  }
 ]
}