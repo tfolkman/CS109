{
 "metadata": {
  "name": ""
 },
 "nbformat": 3,
 "nbformat_minor": 0,
 "worksheets": [
  {
   "cells": [
    {
     "cell_type": "markdown",
     "metadata": {},
     "source": [
      "#BIAS\n",
      "* Selection Bias\n",
      "    * Picking and choosing some portion of the data\n",
      "    * Publication Bias is a type of this bias\n",
      "        * Journals sometimes won't publish non-significant articles, so biases towards significance\n",
      "* Censoring Bias\n",
      "    * Not able to observe some of the data; e.g. survival time for people with a disease (some people might not die before analyze data).\n",
      "* Length Bias\n",
      "    * See models notes\n",
      "* Sampling Bias\n",
      "    * Some ways of sampling from a population can introduce bias. It is very important to think about where the data are coming from and if anything is excluded"
     ]
    },
    {
     "cell_type": "markdown",
     "metadata": {},
     "source": [
      "#P-Value\n",
      "The further out the test\n",
      "statistic is in the tail, the smaller the **P-value**, and the stronger the evidence against the null\n",
      "hypothesis in favor of the alternative. The p-value is closely related to the sample size: with a big enough sample size, everything becomes significant. We care more about **scientific significance** - does it actually matter?"
     ]
    },
    {
     "cell_type": "markdown",
     "metadata": {},
     "source": [
      "# Sampling\n",
      "* Simple Random Sampling\n",
      "    * Just take a completely random sample from population. Not always possible and can be inefficient if very heterogenous group\n",
      "* Stratified Sampling\n",
      "    * Good if population broken up into groups (e.g. gender, age, etc.); take a certain number from each group for sample\n",
      "* Cluster Sampling\n",
      "    * Pick certain areas (e.g. a geographical block) randomly and then try and sample everyone in that block\n",
      "* Snowball Sampling\n",
      "    * Way to collect sample from network. Start with number of seeds (nodes) and then sample their connections. Can work well for hard to reach populations (e.g. drug users); if you know a node is a drug user then maybe more likely his connections are as well. You maybe finding the more important nodes faster this way (they have more connections). Maybe giving you a better understanding of certain regions of a network, but still maybe missing certain regions.\n",
      "* Absolute vs. Relative\n",
      "    * "
     ]
    },
    {
     "cell_type": "code",
     "collapsed": false,
     "input": [],
     "language": "python",
     "metadata": {},
     "outputs": []
    }
   ],
   "metadata": {}
  }
 ]
}